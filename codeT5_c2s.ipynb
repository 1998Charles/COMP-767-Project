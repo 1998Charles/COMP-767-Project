{
 "cells": [
  {
   "cell_type": "markdown",
   "id": "4df4bdf3-d5c1-4cc1-8fc1-afcbe89ac1ab",
   "metadata": {
    "tags": []
   },
   "source": [
    "# Check GPUs and Install libraries"
   ]
  },
  {
   "cell_type": "code",
   "execution_count": 3,
   "id": "1bc8ec6e-ee1a-48d9-81e0-10668a1ba35c",
   "metadata": {
    "tags": []
   },
   "outputs": [
    {
     "name": "stdout",
     "output_type": "stream",
     "text": [
      "GPU 0: NVIDIA L4 (UUID: GPU-1b1dd474-7047-9c32-e3cf-d6edfafabbb6)\n",
      "\n"
     ]
    }
   ],
   "source": [
    "#@title 1.1 Check GPU Status\n",
    "import subprocess\n",
    "simple_nvidia_smi_display = True#@param {type:\"boolean\"}\n",
    "if simple_nvidia_smi_display:\n",
    "  #!nvidia-smi\n",
    "  nvidiasmi_output = subprocess.run(['nvidia-smi', '-L'], stdout=subprocess.PIPE).stdout.decode('utf-8')\n",
    "  print(nvidiasmi_output)\n",
    "else:\n",
    "  #!nvidia-smi -i 0 -e 0\n",
    "  nvidiasmi_output = subprocess.run(['nvidia-smi'], stdout=subprocess.PIPE).stdout.decode('utf-8')\n",
    "  print(nvidiasmi_output)\n",
    "  nvidiasmi_ecc_note = subprocess.run(['nvidia-smi', '-i', '0', '-e', '0'], stdout=subprocess.PIPE).stdout.decode('utf-8')\n",
    "  print(nvidiasmi_ecc_note)"
   ]
  },
  {
   "cell_type": "markdown",
   "id": "66a4a999-c251-457e-83fb-7cad11f24b79",
   "metadata": {
    "tags": []
   },
   "source": [
    "# Imports"
   ]
  },
  {
   "cell_type": "code",
   "execution_count": 16,
   "id": "7499be5d-9144-4d1e-af98-df9b11d265ca",
   "metadata": {
    "tags": []
   },
   "outputs": [],
   "source": [
    "import pandas as pd\n",
    "from torch.utils.data import Dataset, DataLoader\n",
    "import torch\n",
    "from datasets import Dataset as HFDataset\n",
    "import numpy as np\n",
    "\n",
    "from peft import LoraConfig, get_peft_model\n",
    "from datasets import load_dataset\n",
    "\n",
    "from transformers import (\n",
    "    pipeline,\n",
    "    AutoTokenizer,\n",
    "    AutoModelForSequenceClassification,\n",
    "    BertConfig,\n",
    "    BertModel,\n",
    "    Trainer,\n",
    "    TrainingArguments,\n",
    "    T5Tokenizer,\n",
    "    T5ForConditionalGeneration,\n",
    "    AutoTokenizer, \n",
    "    AutoModelForCausalLM,\n",
    "    AutoModelForSeq2SeqLM,\n",
    "    GPT2Model,\n",
    "    GPT2Config,\n",
    "    GPT2ForSequenceClassification,\n",
    "    GPT2Tokenizer,\n",
    ")\n",
    "from sklearn.metrics import accuracy_score, precision_score, recall_score, f1_score\n",
    "from sklearn.model_selection import train_test_split\n",
    "import matplotlib.pyplot as plt\n",
    "from sacrebleu import corpus_bleu\n",
    "from tqdm.autonotebook import tqdm"
   ]
  },
  {
   "cell_type": "markdown",
   "id": "ef111539-90dc-4c1f-91b1-acca869cf465",
   "metadata": {},
   "source": [
    "# Loading and Data pre-processing"
   ]
  },
  {
   "cell_type": "code",
   "execution_count": 30,
   "id": "31085e6c-508a-4b41-a7ab-e173265a0bea",
   "metadata": {
    "tags": []
   },
   "outputs": [
    {
     "data": {
      "text/plain": [
       "DatasetDict({\n",
       "    train: Dataset({\n",
       "        features: ['id', 'repo', 'path', 'func_name', 'original_string', 'language', 'code', 'code_tokens', 'docstring', 'docstring_tokens', 'sha', 'url'],\n",
       "        num_rows: 164923\n",
       "    })\n",
       "    validation: Dataset({\n",
       "        features: ['id', 'repo', 'path', 'func_name', 'original_string', 'language', 'code', 'code_tokens', 'docstring', 'docstring_tokens', 'sha', 'url'],\n",
       "        num_rows: 5183\n",
       "    })\n",
       "    test: Dataset({\n",
       "        features: ['id', 'repo', 'path', 'func_name', 'original_string', 'language', 'code', 'code_tokens', 'docstring', 'docstring_tokens', 'sha', 'url'],\n",
       "        num_rows: 10955\n",
       "    })\n",
       "})"
      ]
     },
     "execution_count": 30,
     "metadata": {},
     "output_type": "execute_result"
    }
   ],
   "source": [
    "dataset = load_dataset(\"google/code_x_glue_ct_code_to_text\", \"java\")\n",
    "dataset"
   ]
  },
  {
   "cell_type": "code",
   "execution_count": 32,
   "id": "2ba0ebb4-50bf-42be-bfde-e692e30ad121",
   "metadata": {
    "tags": []
   },
   "outputs": [],
   "source": [
    "# Convert to Pandas DataFrame for easier manipulation\n",
    "\n",
    "df_train = dataset[\"train\"].to_pandas() # train\n",
    "df_validation = dataset[\"validation\"].to_pandas() # validation\n",
    "df_test = dataset[\"test\"].to_pandas() # test"
   ]
  },
  {
   "cell_type": "code",
   "execution_count": null,
   "id": "ad33772d-9b4c-4cdb-a1e9-0d452843359a",
   "metadata": {
    "tags": []
   },
   "outputs": [],
   "source": [
    "# Stratified sampling using sklearn\n",
    "# Adjust the test_size to control the size of the sub-dataset\n",
    "sub_train_df, _ = train_test_split(df_train, test_size=0.987873, random_state=42) # train\n",
    "sub_validation_df, _ = train_test_split(df_validation, test_size=0.614123, random_state=42) # validation\n",
    "sub_test_df, _ = train_test_split(df_test, test_size=0.908717, random_state=42) # test\n",
    "\n",
    "# Convert back to a Hugging Face Dataset (optional)\n",
    "sub_train_dataset = HFDataset.from_pandas(sub_train_df)\n",
    "sub_validation_dataset = HFDataset.from_pandas(sub_validation_df)\n",
    "sub_test_dataset = HFDataset.from_pandas(sub_test_df)"
   ]
  },
  {
   "cell_type": "code",
   "execution_count": 34,
   "id": "9c73f5d1-a3b2-440a-b342-1eb520271a3d",
   "metadata": {
    "tags": []
   },
   "outputs": [
    {
     "data": {
      "application/vnd.jupyter.widget-view+json": {
       "model_id": "6a7e5c4a2f604357a67dd0fd05be63e0",
       "version_major": 2,
       "version_minor": 0
      },
      "text/plain": [
       "Saving the dataset (0/1 shards):   0%|          | 0/2000 [00:00<?, ? examples/s]"
      ]
     },
     "metadata": {},
     "output_type": "display_data"
    },
    {
     "data": {
      "application/vnd.jupyter.widget-view+json": {
       "model_id": "99f161cf1db14786bff68c7f1b0ca00e",
       "version_major": 2,
       "version_minor": 0
      },
      "text/plain": [
       "Saving the dataset (0/1 shards):   0%|          | 0/2000 [00:00<?, ? examples/s]"
      ]
     },
     "metadata": {},
     "output_type": "display_data"
    },
    {
     "data": {
      "application/vnd.jupyter.widget-view+json": {
       "model_id": "377691a6e641416fab96f71f3e5b01a1",
       "version_major": 2,
       "version_minor": 0
      },
      "text/plain": [
       "Saving the dataset (0/1 shards):   0%|          | 0/1000 [00:00<?, ? examples/s]"
      ]
     },
     "metadata": {},
     "output_type": "display_data"
    }
   ],
   "source": [
    "# sub_train_dataset.save_to_disk(\"SubCodeXGLUE_train\")\n",
    "# sub_validation_dataset.save_to_disk(\"SubCodeXGLUE_validation\")\n",
    "# sub_test_dataset.save_to_disk(\"SubCodeXGLUE_test\")"
   ]
  },
  {
   "cell_type": "code",
   "execution_count": 2,
   "id": "d5ff8faf-b514-411e-8296-790781935de0",
   "metadata": {
    "tags": []
   },
   "outputs": [
    {
     "name": "stdout",
     "output_type": "stream",
     "text": [
      "Dataset({\n",
      "    features: ['id', 'repo', 'path', 'func_name', 'original_string', 'language', 'code', 'code_tokens', 'docstring', 'docstring_tokens', 'sha', 'url', '__index_level_0__'],\n",
      "    num_rows: 2000\n",
      "})\n",
      "Dataset({\n",
      "    features: ['id', 'repo', 'path', 'func_name', 'original_string', 'language', 'code', 'code_tokens', 'docstring', 'docstring_tokens', 'sha', 'url', '__index_level_0__'],\n",
      "    num_rows: 2000\n",
      "})\n",
      "Dataset({\n",
      "    features: ['id', 'repo', 'path', 'func_name', 'original_string', 'language', 'code', 'code_tokens', 'docstring', 'docstring_tokens', 'sha', 'url', '__index_level_0__'],\n",
      "    num_rows: 1000\n",
      "})\n"
     ]
    }
   ],
   "source": [
    "train_hf_dataset = HFDataset.load_from_disk(\"SubCodeXGLUE_train\")\n",
    "validation_hf_dataset = HFDataset.load_from_disk(\"SubCodeXGLUE_validation\")\n",
    "test_hf_dataset = HFDataset.load_from_disk(\"SubCodeXGLUE_test\")\n",
    "print(train_hf_dataset)\n",
    "print(validation_hf_dataset)\n",
    "print(test_hf_dataset)"
   ]
  },
  {
   "cell_type": "code",
   "execution_count": 4,
   "id": "6990dc50-2ae4-4d27-bf58-104db5c3ca78",
   "metadata": {
    "tags": []
   },
   "outputs": [],
   "source": [
    "# Pre-process the original data\n",
    "def preprocess_function(examples):\n",
    "    inputs = [\"Summarize the CODE into a DOCSTRING. FUNCTION NAME: \" + examples[\"func_name\"][i] + \" CODE: \" + examples[\"code\"][i] for i in range(len(examples[\"func_name\"]))]\n",
    "    targets = [\"DOCSTRING: \" + i for i in examples[\"docstring\"]]\n",
    "    # targets = [str(i) for i in examples[\"label\"]]\n",
    "    \n",
    "    max_length = 512\n",
    "    return {\"input_ids\": tokenizer(inputs, truncation=True, padding=\"max_length\", max_length=max_length)[\"input_ids\"],\n",
    "            \"attention_mask\": tokenizer(inputs, truncation=True, padding=\"max_length\", max_length=max_length)[\"attention_mask\"],\n",
    "            # \"labels\": torch.tensor(targets, dtype=torch.long),\n",
    "            \"labels\": tokenizer(targets, truncation=True, padding=\"max_length\", max_length=max_length)[\"input_ids\"],\n",
    "        }\n",
    "\n",
    "# Load the Tokenizer\n",
    "tokenizer = AutoTokenizer.from_pretrained(\"Salesforce/codet5-base\")\n",
    "\n",
    "# Pre-process data\n",
    "tokenized_train_dataset = train_hf_dataset.map(preprocess_function, batched=True, batch_size=4)\n",
    "tokenized_validation_dataset = validation_hf_dataset.map(preprocess_function, batched=True, batch_size=4)\n",
    "tokenized_test_dataset = test_hf_dataset.map(preprocess_function, batched=True, batch_size=4)"
   ]
  },
  {
   "cell_type": "code",
   "execution_count": 42,
   "id": "cec8054b-fad3-4ea2-8b24-6387050578bf",
   "metadata": {
    "tags": []
   },
   "outputs": [
    {
     "name": "stdout",
     "output_type": "stream",
     "text": [
      "trainable params: 452,984,832 || all params: 675,866,880 || trainable%: 67.0228\n"
     ]
    }
   ],
   "source": [
    "# Load pre-trained model\n",
    "model = AutoModelForSeq2SeqLM.from_pretrained(\"Salesforce/codet5-base\")\n",
    "\n",
    "# Config LoRA specifications\n",
    "lora_config = LoraConfig(\n",
    "    r=4096,  # lower the rank\n",
    "    # r=48,  # lower the rank\n",
    "    lora_alpha=32,\n",
    "    target_modules=[\"q\", \"v\"],  # apply LoRA to q and v of attention modules\n",
    "    # target_modules=[\"c_attn\"],  # target query, key, and value together\n",
    "    lora_dropout=0.1,\n",
    "    bias=\"none\",\n",
    "    task_type=\"SEQ_2_SEQ_LM\",  # task type set to seq2seq generation\n",
    "    # task_type=\"SEQ_CLS\",  # task type set to text classification\n",
    ")\n",
    "\n",
    "# Convert the model to LoRA model\n",
    "model = get_peft_model(model, lora_config)\n",
    "\n",
    "# Check the number of trainable parameters (for LoRA)\n",
    "model.print_trainable_parameters()"
   ]
  },
  {
   "cell_type": "code",
   "execution_count": null,
   "id": "697b119a-76bc-4b06-85be-d9b5c349293e",
   "metadata": {
    "tags": []
   },
   "outputs": [],
   "source": [
    "# Adjust the batch size\n",
    "batch_size = 4\n",
    "training_args = TrainingArguments(\n",
    "    output_dir=\"./results/lora-codeT5-c2s\",\n",
    "    # eval_strategy=\"epoch\",\n",
    "    learning_rate=5e-4,\n",
    "    per_device_train_batch_size=batch_size,\n",
    "    per_device_eval_batch_size=batch_size,\n",
    "    metric_for_best_model=\"f1\",\n",
    "    weight_decay=0.01,\n",
    "    num_train_epochs=6,\n",
    "    save_strategy=\"epoch\",\n",
    "    logging_strategy=\"steps\",\n",
    "    logging_steps=10,\n",
    "    report_to=\"mlflow\",  # disable wandb etc.\n",
    "    fp16=True,  # mixed precision training\n",
    "    optim=\"adamw_torch\",  # use torch original optimizer\n",
    ")\n",
    "\n",
    "def compute_metrics(eval_pred):\n",
    "    predictions, labels = eval_pred\n",
    "\n",
    "    # Extract logits from tuple and process predictions\n",
    "    predictions = predictions[0]  # Extract the array\n",
    "    predictions = np.argmax(predictions, axis=-1)  # Convert logits to token IDs\n",
    "    predictions = predictions.tolist()  # Convert to a list\n",
    "\n",
    "    # Decode predictions and labels\n",
    "    decoded_preds = tokenizer.batch_decode(predictions, skip_special_tokens=True)\n",
    "    decoded_labels = tokenizer.batch_decode(labels, skip_special_tokens=True)\n",
    "    \n",
    "    # Format labels for BLEU (expects list of lists for references)\n",
    "    decoded_labels = [[label] for label in decoded_labels]\n",
    "\n",
    "    # Compute BLEU score using sacrebleu\n",
    "    bleu = corpus_bleu(decoded_preds, decoded_labels)\n",
    "\n",
    "    return {\"bleu\": bleu.score}\n",
    "\n",
    "# Define Trainer\n",
    "trainer = Trainer(\n",
    "    model=model,\n",
    "    args=training_args,\n",
    "    compute_metrics=compute_metrics,\n",
    "    train_dataset=tokenized_train_dataset,\n",
    "    # eval_dataset=tokenized_validation_dataset,\n",
    ")\n",
    "\n",
    "# Start Training\n",
    "trainer.train()\n",
    "\n",
    "# Save the model after LoRA fine-tuing\n",
    "model.save_pretrained(\"./lora-codeT5-c2s/model\")\n",
    "tokenizer.save_pretrained(\"./lora-codeT5-c2s/tokenizer\")\n",
    "\n",
    "print(\"LoRA fine-tuning done, model saved!\")"
   ]
  },
  {
   "cell_type": "code",
   "execution_count": 12,
   "id": "b88c79d2-9931-4bdc-9bbb-d5a3118a06b6",
   "metadata": {
    "tags": []
   },
   "outputs": [],
   "source": [
    "# Load pre-trained model\n",
    "model = AutoModelForSeq2SeqLM.from_pretrained(\"results/lora-codeT5-c2s/checkpoint-3000\")\n",
    "model.generation_config.use_cache=False"
   ]
  },
  {
   "cell_type": "code",
   "execution_count": 18,
   "id": "220294b5-8d91-48e1-a5bd-19d70cac17ac",
   "metadata": {
    "tags": []
   },
   "outputs": [
    {
     "data": {
      "application/vnd.jupyter.widget-view+json": {
       "model_id": "c3e25bff2cee4a44946c57269ceaef0f",
       "version_major": 2,
       "version_minor": 0
      },
      "text/plain": [
       "  0%|          | 0/500 [00:00<?, ?it/s]"
      ]
     },
     "metadata": {},
     "output_type": "display_data"
    }
   ],
   "source": [
    "def compute_metrics(eval_pred):\n",
    "    predictions, labels = eval_pred\n",
    "\n",
    "    # Extract logits from tuple and process predictions\n",
    "    predictions = predictions[0]  # Extract the array\n",
    "    predictions = np.argmax(predictions, axis=-1)  # Convert logits to token IDs\n",
    "    predictions = predictions.tolist()  # Convert to a list\n",
    "\n",
    "    # Decode predictions and labels\n",
    "    decoded_preds = tokenizer.batch_decode(predictions, skip_special_tokens=True)\n",
    "    decoded_labels = tokenizer.batch_decode(labels, skip_special_tokens=True)\n",
    "    \n",
    "    # print(decoded_preds)\n",
    "    # print(decoded_labels)\n",
    "\n",
    "    # Format labels for BLEU (expects list of lists for references)\n",
    "    decoded_labels = [[label] for label in decoded_labels]\n",
    "\n",
    "    # Compute BLEU score using sacrebleu\n",
    "    bleu = corpus_bleu(decoded_preds, decoded_labels)\n",
    "\n",
    "    return {\"bleu\": bleu.score}\n",
    "\n",
    "# Define Trainer\n",
    "trainer = Trainer(\n",
    "    model=model,\n",
    "    compute_metrics=compute_metrics,\n",
    ")\n",
    "\n",
    "test_results = []\n",
    "chunk_size = 2\n",
    "for i in tqdm(range(0, len(tokenized_test_dataset), chunk_size)):\n",
    "    small_test_dataset = tokenized_test_dataset.select(range(i, min(i + chunk_size, len(tokenized_test_dataset))))\n",
    "    with torch.no_grad():\n",
    "        predictions, labels, metrics = trainer.predict(small_test_dataset)\n",
    "        test_results.append(metrics)\n",
    "    torch.cuda.empty_cache()"
   ]
  },
  {
   "cell_type": "code",
   "execution_count": 20,
   "id": "f61486da-148d-45ba-8668-ebecc355e264",
   "metadata": {},
   "outputs": [
    {
     "name": "stdout",
     "output_type": "stream",
     "text": [
      "Average BLEU Score: 23.765163683663282\n"
     ]
    }
   ],
   "source": [
    "# Calculate the average BLEU score\n",
    "total_bleu = sum(result['test_bleu'] for result in test_results)\n",
    "average_bleu = total_bleu / len(test_results)\n",
    "\n",
    "print(f\"Average BLEU Score: {average_bleu}\") # Sacrebleu"
   ]
  }
 ],
 "metadata": {
  "environment": {
   "kernel": "conda-env-pytorch-pytorch",
   "name": "workbench-notebooks.m126",
   "type": "gcloud",
   "uri": "us-docker.pkg.dev/deeplearning-platform-release/gcr.io/workbench-notebooks:m126"
  },
  "kernelspec": {
   "display_name": "PyTorch 1-13",
   "language": "python",
   "name": "conda-env-pytorch-pytorch"
  },
  "language_info": {
   "codemirror_mode": {
    "name": "ipython",
    "version": 3
   },
   "file_extension": ".py",
   "mimetype": "text/x-python",
   "name": "python",
   "nbconvert_exporter": "python",
   "pygments_lexer": "ipython3",
   "version": "3.10.15"
  }
 },
 "nbformat": 4,
 "nbformat_minor": 5
}
