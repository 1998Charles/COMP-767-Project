{
 "cells": [
  {
   "cell_type": "markdown",
   "id": "4df4bdf3-d5c1-4cc1-8fc1-afcbe89ac1ab",
   "metadata": {
    "tags": []
   },
   "source": [
    "# Check GPUs and Install libraries"
   ]
  },
  {
   "cell_type": "code",
   "execution_count": 1,
   "id": "1bc8ec6e-ee1a-48d9-81e0-10668a1ba35c",
   "metadata": {
    "tags": []
   },
   "outputs": [
    {
     "name": "stdout",
     "output_type": "stream",
     "text": [
      "GPU 0: NVIDIA L4 (UUID: GPU-417126cd-a631-a8e0-0982-caf3b63f21a4)\n",
      "\n"
     ]
    }
   ],
   "source": [
    "#@title 1.1 Check GPU Status\n",
    "import subprocess\n",
    "simple_nvidia_smi_display = True#@param {type:\"boolean\"}\n",
    "if simple_nvidia_smi_display:\n",
    "  #!nvidia-smi\n",
    "  nvidiasmi_output = subprocess.run(['nvidia-smi', '-L'], stdout=subprocess.PIPE).stdout.decode('utf-8')\n",
    "  print(nvidiasmi_output)\n",
    "else:\n",
    "  #!nvidia-smi -i 0 -e 0\n",
    "  nvidiasmi_output = subprocess.run(['nvidia-smi'], stdout=subprocess.PIPE).stdout.decode('utf-8')\n",
    "  print(nvidiasmi_output)\n",
    "  nvidiasmi_ecc_note = subprocess.run(['nvidia-smi', '-i', '0', '-e', '0'], stdout=subprocess.PIPE).stdout.decode('utf-8')\n",
    "  print(nvidiasmi_ecc_note)"
   ]
  },
  {
   "cell_type": "markdown",
   "id": "66a4a999-c251-457e-83fb-7cad11f24b79",
   "metadata": {
    "tags": []
   },
   "source": [
    "# Imports"
   ]
  },
  {
   "cell_type": "code",
   "execution_count": 2,
   "id": "7499be5d-9144-4d1e-af98-df9b11d265ca",
   "metadata": {
    "tags": []
   },
   "outputs": [],
   "source": [
    "import pandas as pd\n",
    "from torch.utils.data import Dataset, DataLoader\n",
    "import torch\n",
    "from datasets import Dataset as HFDataset\n",
    "\n",
    "from peft import LoraConfig, get_peft_model\n",
    "from datasets import load_dataset\n",
    "\n",
    "from transformers import (\n",
    "    pipeline,\n",
    "    AutoTokenizer,\n",
    "    AutoModelForSequenceClassification,\n",
    "    BertConfig,\n",
    "    BertModel,\n",
    "    Trainer,\n",
    "    TrainingArguments,\n",
    "    T5Tokenizer,\n",
    "    T5ForConditionalGeneration,\n",
    "    AutoTokenizer, \n",
    "    AutoModelForCausalLM,\n",
    "    GPT2Model,\n",
    "    GPT2Config,\n",
    "    GPT2ForSequenceClassification,\n",
    "    GPT2Tokenizer,\n",
    ")\n",
    "from sklearn.metrics import accuracy_score, precision_score, recall_score, f1_score\n",
    "from sklearn.model_selection import train_test_split\n",
    "import matplotlib.pyplot as plt"
   ]
  },
  {
   "cell_type": "markdown",
   "id": "ef111539-90dc-4c1f-91b1-acca869cf465",
   "metadata": {},
   "source": [
    "# Data pre-processing"
   ]
  },
  {
   "cell_type": "code",
   "execution_count": 3,
   "id": "2ada3999-71b0-4b85-ad03-43181eb1de8f",
   "metadata": {
    "tags": []
   },
   "outputs": [
    {
     "name": "stdout",
     "output_type": "stream",
     "text": [
      "Dataset({\n",
      "    features: ['code1', 'code2', 'label'],\n",
      "    num_rows: 1652\n",
      "})\n",
      "Dataset({\n",
      "    features: ['code1', 'code2', 'label', '__index_level_0__'],\n",
      "    num_rows: 825\n",
      "})\n",
      "Dataset({\n",
      "    features: ['code1', 'code2', 'label', '__index_level_0__'],\n",
      "    num_rows: 825\n",
      "})\n"
     ]
    }
   ],
   "source": [
    "train_hf_dataset = HFDataset.load_from_disk(\"SubMutantBench_train\")\n",
    "validation_hf_dataset = HFDataset.load_from_disk(\"SubMutantBench_validation\")\n",
    "test_hf_dataset = HFDataset.load_from_disk(\"SubMutantBench_test\")\n",
    "print(train_hf_dataset)\n",
    "print(validation_hf_dataset)\n",
    "print(test_hf_dataset)"
   ]
  },
  {
   "cell_type": "code",
   "execution_count": 5,
   "id": "53020ecb-f11c-465f-8da3-4edd43ebdeb7",
   "metadata": {
    "tags": []
   },
   "outputs": [
    {
     "data": {
      "application/vnd.jupyter.widget-view+json": {
       "model_id": "1343415c71404f8ba806f2b764b91565",
       "version_major": 2,
       "version_minor": 0
      },
      "text/plain": [
       "Map:   0%|          | 0/1652 [00:00<?, ? examples/s]"
      ]
     },
     "metadata": {},
     "output_type": "display_data"
    },
    {
     "data": {
      "application/vnd.jupyter.widget-view+json": {
       "model_id": "aa6e62bd3fcb467db4979f043275f60f",
       "version_major": 2,
       "version_minor": 0
      },
      "text/plain": [
       "Map:   0%|          | 0/825 [00:00<?, ? examples/s]"
      ]
     },
     "metadata": {},
     "output_type": "display_data"
    },
    {
     "data": {
      "application/vnd.jupyter.widget-view+json": {
       "model_id": "7da8a70813a14f0986cbdac47418f4a2",
       "version_major": 2,
       "version_minor": 0
      },
      "text/plain": [
       "Map:   0%|          | 0/825 [00:00<?, ? examples/s]"
      ]
     },
     "metadata": {},
     "output_type": "display_data"
    }
   ],
   "source": [
    "# Pre-process the original data\n",
    "def preprocess_function(examples):\n",
    "    inputs = [\"code_1: \" + examples[\"code1\"][i] + \" code_2: \" + examples[\"code2\"][i] for i in range(len(examples[\"code1\"]))]\n",
    "    targets = [i for i in examples[\"label\"]]\n",
    "    # targets = [str(i) for i in examples[\"label\"]]\n",
    "    \n",
    "    max_length = 512\n",
    "    return {\"input_ids\": tokenizer(inputs, truncation=True, padding=\"max_length\", max_length=max_length)[\"input_ids\"],\n",
    "            \"attention_mask\": tokenizer(inputs, truncation=True, padding=\"max_length\", max_length=max_length)[\"attention_mask\"],\n",
    "            \"labels\": torch.tensor(targets, dtype=torch.long),\n",
    "            # \"labels\": tokenizer(targets, truncation=True, padding=\"max_length\", max_length=256)[\"input_ids\"]\n",
    "        }\n",
    "\n",
    "# Load the Tokenizer\n",
    "tokenizer = AutoTokenizer.from_pretrained(\"bert-base-cased\")\n",
    "\n",
    "# Pre-process data\n",
    "tokenized_train_dataset = train_hf_dataset.map(preprocess_function, batched=True, batch_size=4)\n",
    "tokenized_validation_dataset = validation_hf_dataset.map(preprocess_function, batched=True, batch_size=4)\n",
    "tokenized_test_dataset = test_hf_dataset.map(preprocess_function, batched=True, batch_size=4)"
   ]
  },
  {
   "cell_type": "code",
   "execution_count": 6,
   "id": "cec8054b-fad3-4ea2-8b24-6387050578bf",
   "metadata": {
    "tags": []
   },
   "outputs": [
    {
     "name": "stderr",
     "output_type": "stream",
     "text": [
      "Some weights of BertForSequenceClassification were not initialized from the model checkpoint at bert-base-cased and are newly initialized: ['classifier.bias', 'classifier.weight']\n",
      "You should probably TRAIN this model on a down-stream task to be able to use it for predictions and inference.\n"
     ]
    },
    {
     "name": "stdout",
     "output_type": "stream",
     "text": [
      "trainable params: 1,181,186 || all params: 109,492,996 || trainable%: 1.0788\n"
     ]
    }
   ],
   "source": [
    "# Load pre-trained model\n",
    "num_labels = 2\n",
    "model = AutoModelForSequenceClassification.from_pretrained(\"bert-base-cased\", num_labels=num_labels)\n",
    "\n",
    "# Config LoRA specifications\n",
    "lora_config = LoraConfig(\n",
    "    # r=8,  # lower the rank\n",
    "    r=32,  # lower the rank\n",
    "    lora_alpha=32,\n",
    "    # target_modules=[\"q\", \"v\"],  # apply LoRA to q and v of attention modules\n",
    "    # target_modules=[\"c_attn\"],  # target query, key, and value together\n",
    "    target_modules=[\"query\", \"value\"],  # correct module names for BERT\n",
    "    lora_dropout=0.1,\n",
    "    bias=\"none\",\n",
    "    # task_type=\"SEQ_2_SEQ_LM\",  # task type set to seq2seq generation\n",
    "    task_type=\"SEQ_CLS\",  # task type set to text classification\n",
    ")\n",
    "\n",
    "# Convert the model to LoRA model\n",
    "model = get_peft_model(model, lora_config)\n",
    "\n",
    "# Check the number of trainable parameters (for LoRA)\n",
    "model.print_trainable_parameters()"
   ]
  },
  {
   "cell_type": "code",
   "execution_count": 7,
   "id": "697b119a-76bc-4b06-85be-d9b5c349293e",
   "metadata": {
    "tags": []
   },
   "outputs": [
    {
     "name": "stderr",
     "output_type": "stream",
     "text": [
      "huggingface/tokenizers: The current process just got forked, after parallelism has already been used. Disabling parallelism to avoid deadlocks...\n",
      "To disable this warning, you can either:\n",
      "\t- Avoid using `tokenizers` before the fork if possible\n",
      "\t- Explicitly set the environment variable TOKENIZERS_PARALLELISM=(true | false)\n",
      "huggingface/tokenizers: The current process just got forked, after parallelism has already been used. Disabling parallelism to avoid deadlocks...\n",
      "To disable this warning, you can either:\n",
      "\t- Avoid using `tokenizers` before the fork if possible\n",
      "\t- Explicitly set the environment variable TOKENIZERS_PARALLELISM=(true | false)\n"
     ]
    },
    {
     "data": {
      "text/html": [
       "\n",
       "    <div>\n",
       "      \n",
       "      <progress value='2478' max='2478' style='width:300px; height:20px; vertical-align: middle;'></progress>\n",
       "      [2478/2478 02:41, Epoch 6/6]\n",
       "    </div>\n",
       "    <table border=\"1\" class=\"dataframe\">\n",
       "  <thead>\n",
       " <tr style=\"text-align: left;\">\n",
       "      <th>Epoch</th>\n",
       "      <th>Training Loss</th>\n",
       "      <th>Validation Loss</th>\n",
       "      <th>Accuracy</th>\n",
       "      <th>Precision</th>\n",
       "      <th>Recall</th>\n",
       "      <th>F1</th>\n",
       "    </tr>\n",
       "  </thead>\n",
       "  <tbody>\n",
       "    <tr>\n",
       "      <td>1</td>\n",
       "      <td>0.921200</td>\n",
       "      <td>0.394377</td>\n",
       "      <td>0.901818</td>\n",
       "      <td>0.948143</td>\n",
       "      <td>0.676000</td>\n",
       "      <td>0.733009</td>\n",
       "    </tr>\n",
       "    <tr>\n",
       "      <td>2</td>\n",
       "      <td>0.229400</td>\n",
       "      <td>0.461328</td>\n",
       "      <td>0.901818</td>\n",
       "      <td>0.948143</td>\n",
       "      <td>0.676000</td>\n",
       "      <td>0.733009</td>\n",
       "    </tr>\n",
       "    <tr>\n",
       "      <td>3</td>\n",
       "      <td>0.275000</td>\n",
       "      <td>0.384580</td>\n",
       "      <td>0.901818</td>\n",
       "      <td>0.948143</td>\n",
       "      <td>0.676000</td>\n",
       "      <td>0.733009</td>\n",
       "    </tr>\n",
       "    <tr>\n",
       "      <td>4</td>\n",
       "      <td>0.321400</td>\n",
       "      <td>0.367897</td>\n",
       "      <td>0.906667</td>\n",
       "      <td>0.950450</td>\n",
       "      <td>0.692000</td>\n",
       "      <td>0.751390</td>\n",
       "    </tr>\n",
       "    <tr>\n",
       "      <td>5</td>\n",
       "      <td>0.233000</td>\n",
       "      <td>0.361467</td>\n",
       "      <td>0.921212</td>\n",
       "      <td>0.957516</td>\n",
       "      <td>0.740000</td>\n",
       "      <td>0.802140</td>\n",
       "    </tr>\n",
       "    <tr>\n",
       "      <td>6</td>\n",
       "      <td>0.666400</td>\n",
       "      <td>0.370635</td>\n",
       "      <td>0.921212</td>\n",
       "      <td>0.957516</td>\n",
       "      <td>0.740000</td>\n",
       "      <td>0.802140</td>\n",
       "    </tr>\n",
       "  </tbody>\n",
       "</table><p>"
      ],
      "text/plain": [
       "<IPython.core.display.HTML object>"
      ]
     },
     "metadata": {},
     "output_type": "display_data"
    },
    {
     "name": "stdout",
     "output_type": "stream",
     "text": [
      "LoRA fine-tuning done, model saved!\n"
     ]
    },
    {
     "data": {
      "text/html": [],
      "text/plain": [
       "<IPython.core.display.HTML object>"
      ]
     },
     "metadata": {},
     "output_type": "display_data"
    },
    {
     "name": "stdout",
     "output_type": "stream",
     "text": [
      "{'test_loss': 0.32292336225509644, 'test_accuracy': 0.9321212121212121, 'test_precision': 0.9630118890356671, 'test_recall': 0.7741935483870968, 'test_f1': 0.8349622770919067, 'test_runtime': 4.4234, 'test_samples_per_second': 186.507, 'test_steps_per_second': 46.796}\n"
     ]
    }
   ],
   "source": [
    "# Adjust the batch size\n",
    "batch_size = 4\n",
    "training_args = TrainingArguments(\n",
    "    output_dir=\"./results/lora-bert-emd\",\n",
    "    eval_strategy=\"epoch\",\n",
    "    learning_rate=5e-4,\n",
    "    per_device_train_batch_size=batch_size,\n",
    "    per_device_eval_batch_size=batch_size,\n",
    "    metric_for_best_model=\"f1\",\n",
    "    weight_decay=0.01,\n",
    "    num_train_epochs=6,\n",
    "    save_strategy=\"no\",\n",
    "    logging_strategy=\"steps\",\n",
    "    logging_steps=10,\n",
    "    report_to=\"mlflow\",  # disable wandb etc.\n",
    "    fp16=True,  # mixed precision training\n",
    "    optim=\"adamw_torch\",  # use torch original optimizer\n",
    ")\n",
    "\n",
    "def compute_metrics(pred):\n",
    "    labels = pred.label_ids\n",
    "    # Extract logits from the predictions & assuming logits are the first element in the tuple\n",
    "    logits = pred.predictions[0] if isinstance(pred.predictions, tuple) else pred.predictions\n",
    "    preds = logits.argmax(-1)\n",
    "    f1 = f1_score(labels, preds, average=\"macro\")\n",
    "    acc = accuracy_score(labels, preds)\n",
    "    precision = precision_score(labels, preds, average=\"macro\")\n",
    "    recall = recall_score(labels, preds, average=\"macro\")\n",
    "    return {\"accuracy\": acc, \"precision\": precision, \"recall\": recall, \"f1\": f1}\n",
    "\n",
    "# Define Trainer\n",
    "trainer = Trainer(\n",
    "    model=model,\n",
    "    args=training_args,\n",
    "    compute_metrics=compute_metrics,\n",
    "    train_dataset=tokenized_train_dataset,\n",
    "    eval_dataset=tokenized_validation_dataset,\n",
    ")\n",
    "\n",
    "# Start Training\n",
    "trainer.train()\n",
    "\n",
    "# Save the model after LoRA fine-tuing\n",
    "model.save_pretrained(\"./lora-bert-emd/model\")\n",
    "tokenizer.save_pretrained(\"./lora-bert-emd/tokenizer\")\n",
    "\n",
    "print(\"LoRA fine-tuning done, model saved!\")\n",
    "\n",
    "test_results = trainer.predict(tokenized_test_dataset)\n",
    "predictions, labels, metrics = test_results\n",
    "print(metrics)"
   ]
  }
 ],
 "metadata": {
  "environment": {
   "kernel": "conda-env-pytorch-pytorch",
   "name": "workbench-notebooks.m126",
   "type": "gcloud",
   "uri": "us-docker.pkg.dev/deeplearning-platform-release/gcr.io/workbench-notebooks:m126"
  },
  "kernelspec": {
   "display_name": "PyTorch 1-13",
   "language": "python",
   "name": "conda-env-pytorch-pytorch"
  },
  "language_info": {
   "codemirror_mode": {
    "name": "ipython",
    "version": 3
   },
   "file_extension": ".py",
   "mimetype": "text/x-python",
   "name": "python",
   "nbconvert_exporter": "python",
   "pygments_lexer": "ipython3",
   "version": "3.10.15"
  }
 },
 "nbformat": 4,
 "nbformat_minor": 5
}
