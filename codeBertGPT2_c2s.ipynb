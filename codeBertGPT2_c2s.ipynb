{
 "cells": [
  {
   "cell_type": "markdown",
   "id": "4df4bdf3-d5c1-4cc1-8fc1-afcbe89ac1ab",
   "metadata": {
    "tags": []
   },
   "source": [
    "# Check GPUs and Install libraries"
   ]
  },
  {
   "cell_type": "code",
   "execution_count": 1,
   "id": "1bc8ec6e-ee1a-48d9-81e0-10668a1ba35c",
   "metadata": {
    "tags": []
   },
   "outputs": [
    {
     "name": "stdout",
     "output_type": "stream",
     "text": [
      "GPU 0: NVIDIA L4 (UUID: GPU-cdf97e46-a922-3166-30b1-370d2a8877e2)\n",
      "\n"
     ]
    }
   ],
   "source": [
    "#@title 1.1 Check GPU Status\n",
    "import subprocess\n",
    "simple_nvidia_smi_display = True#@param {type:\"boolean\"}\n",
    "if simple_nvidia_smi_display:\n",
    "  #!nvidia-smi\n",
    "  nvidiasmi_output = subprocess.run(['nvidia-smi', '-L'], stdout=subprocess.PIPE).stdout.decode('utf-8')\n",
    "  print(nvidiasmi_output)\n",
    "else:\n",
    "  #!nvidia-smi -i 0 -e 0\n",
    "  nvidiasmi_output = subprocess.run(['nvidia-smi'], stdout=subprocess.PIPE).stdout.decode('utf-8')\n",
    "  print(nvidiasmi_output)\n",
    "  nvidiasmi_ecc_note = subprocess.run(['nvidia-smi', '-i', '0', '-e', '0'], stdout=subprocess.PIPE).stdout.decode('utf-8')\n",
    "  print(nvidiasmi_ecc_note)"
   ]
  },
  {
   "cell_type": "markdown",
   "id": "66a4a999-c251-457e-83fb-7cad11f24b79",
   "metadata": {
    "tags": []
   },
   "source": [
    "# Imports"
   ]
  },
  {
   "cell_type": "code",
   "execution_count": 2,
   "id": "7499be5d-9144-4d1e-af98-df9b11d265ca",
   "metadata": {
    "tags": []
   },
   "outputs": [],
   "source": [
    "import pandas as pd\n",
    "from torch.utils.data import Dataset, DataLoader\n",
    "from transformers.pipelines.pt_utils import KeyDataset\n",
    "import torch\n",
    "from datasets import Dataset as HFDataset\n",
    "import numpy as np\n",
    "import logging\n",
    "import evaluate\n",
    "\n",
    "from peft import LoraConfig, get_peft_model\n",
    "from datasets import load_dataset\n",
    "\n",
    "from transformers import (\n",
    "    pipeline,\n",
    "    AutoTokenizer,\n",
    "    AutoModel,\n",
    "    AutoModelForSequenceClassification,\n",
    "    BertConfig,\n",
    "    BertModel,\n",
    "    BertTokenizer,\n",
    "    BertGenerationEncoder,\n",
    "    BertGenerationDecoder,\n",
    "    BertGenerationConfig,\n",
    "    EncoderDecoderModel,\n",
    "    EncoderDecoderConfig,\n",
    "    Trainer,\n",
    "    TrainingArguments,\n",
    "    T5Tokenizer,\n",
    "    T5ForConditionalGeneration,\n",
    "    AutoTokenizer, \n",
    "    AutoModelForCausalLM,\n",
    "    AutoModelForSeq2SeqLM,\n",
    "    GPT2Model,\n",
    "    GPT2LMHeadModel,\n",
    "    GPT2Config,\n",
    "    GPT2ForSequenceClassification,\n",
    "    GPT2Tokenizer,\n",
    ")\n",
    "from sklearn.metrics import accuracy_score, precision_score, recall_score, f1_score\n",
    "from sklearn.model_selection import train_test_split\n",
    "import matplotlib.pyplot as plt\n",
    "from sacrebleu import corpus_bleu\n",
    "from tqdm.autonotebook import tqdm"
   ]
  },
  {
   "cell_type": "markdown",
   "id": "ef111539-90dc-4c1f-91b1-acca869cf465",
   "metadata": {},
   "source": [
    "# Loading and Data pre-processing"
   ]
  },
  {
   "cell_type": "code",
   "execution_count": 3,
   "id": "d5ff8faf-b514-411e-8296-790781935de0",
   "metadata": {
    "tags": []
   },
   "outputs": [
    {
     "name": "stdout",
     "output_type": "stream",
     "text": [
      "Dataset({\n",
      "    features: ['id', 'repo', 'path', 'func_name', 'original_string', 'language', 'code', 'code_tokens', 'docstring', 'docstring_tokens', 'sha', 'url', '__index_level_0__'],\n",
      "    num_rows: 2000\n",
      "})\n",
      "Dataset({\n",
      "    features: ['id', 'repo', 'path', 'func_name', 'original_string', 'language', 'code', 'code_tokens', 'docstring', 'docstring_tokens', 'sha', 'url', '__index_level_0__'],\n",
      "    num_rows: 2000\n",
      "})\n",
      "Dataset({\n",
      "    features: ['id', 'repo', 'path', 'func_name', 'original_string', 'language', 'code', 'code_tokens', 'docstring', 'docstring_tokens', 'sha', 'url', '__index_level_0__'],\n",
      "    num_rows: 1000\n",
      "})\n"
     ]
    }
   ],
   "source": [
    "train_hf_dataset = HFDataset.load_from_disk(\"SubCodeXGLUE_train\")\n",
    "validation_hf_dataset = HFDataset.load_from_disk(\"SubCodeXGLUE_validation\")\n",
    "test_hf_dataset = HFDataset.load_from_disk(\"SubCodeXGLUE_test\")\n",
    "print(train_hf_dataset)\n",
    "print(validation_hf_dataset)\n",
    "print(test_hf_dataset)"
   ]
  },
  {
   "cell_type": "code",
   "execution_count": 4,
   "id": "767237e3-08f6-4030-bc1d-12b5b08ec93c",
   "metadata": {
    "tags": []
   },
   "outputs": [
    {
     "name": "stderr",
     "output_type": "stream",
     "text": [
      "EncoderDecoderModel has generative capabilities, as `prepare_inputs_for_generation` is explicitly overwritten. However, it doesn't directly inherit from `GenerationMixin`. From 👉v4.50👈 onwards, `PreTrainedModel` will NOT inherit from `GenerationMixin`, and this model will lose the ability to call `generate` and other related functions.\n",
      "  - If you're using `trust_remote_code=True`, you can get rid of this warning by loading the model with an auto class. See https://huggingface.co/docs/transformers/en/model_doc/auto#auto-classes\n",
      "  - If you are the owner of the model architecture code, please modify your model class such that it inherits from `GenerationMixin` (after `PreTrainedModel`, otherwise you'll get an exception).\n",
      "  - If you are not the owner of the model architecture class, please contact the model code owner to update it.\n"
     ]
    }
   ],
   "source": [
    "# # Load the Tokenizer\n",
    "# tokenizer_bert = BertTokenizer.from_pretrained(\"neulab/codebert-java\")\n",
    "\n",
    "# tokenizer_bert.bos_token = tokenizer_bert.cls_token\n",
    "# tokenizer_bert.eos_token = tokenizer_bert.sep_token\n",
    "\n",
    "# # make sure GPT2 appends EOS in begin and end\n",
    "# def build_inputs_with_special_tokens(self, token_ids_0, token_ids_1=None):\n",
    "#     outputs = [self.bos_token_id] + token_ids_0 + [self.eos_token_id]\n",
    "#     return outputs\n",
    "\n",
    "# GPT2Tokenizer.build_inputs_with_special_tokens = build_inputs_with_special_tokens\n",
    "# tokenizer = GPT2Tokenizer.from_pretrained(\"gpt2\")\n",
    "# # set pad_token_id to unk_token_id -> be careful here as unk_token_id == eos_token_id == bos_token_id\n",
    "# tokenizer.pad_token = tokenizer.eos_token\n",
    "\n",
    "# config_encoder = BertConfig()\n",
    "# config_decoder = GPT2Config()\n",
    "\n",
    "# config = EncoderDecoderConfig.from_encoder_decoder_configs(config_encoder, config_decoder)\n",
    "# model = EncoderDecoderModel(config).from_pretrained(\"codeBert-GPT2-c2s/model\")"
   ]
  },
  {
   "cell_type": "code",
   "execution_count": 5,
   "id": "93e46509-cec5-46e3-9af3-f666925927c7",
   "metadata": {
    "tags": []
   },
   "outputs": [
    {
     "data": {
      "application/vnd.jupyter.widget-view+json": {
       "model_id": "d1d6a6aae2c84d9c866682c676c9cc72",
       "version_major": 2,
       "version_minor": 0
      },
      "text/plain": [
       "Map:   0%|          | 0/2000 [00:00<?, ? examples/s]"
      ]
     },
     "metadata": {},
     "output_type": "display_data"
    },
    {
     "data": {
      "application/vnd.jupyter.widget-view+json": {
       "model_id": "c340fb6c13c94a1cb0b8196d7f4da2da",
       "version_major": 2,
       "version_minor": 0
      },
      "text/plain": [
       "Map:   0%|          | 0/2000 [00:00<?, ? examples/s]"
      ]
     },
     "metadata": {},
     "output_type": "display_data"
    },
    {
     "data": {
      "application/vnd.jupyter.widget-view+json": {
       "model_id": "7d8bdb7c316f46339ecc76b706ad240b",
       "version_major": 2,
       "version_minor": 0
      },
      "text/plain": [
       "Map:   0%|          | 0/1000 [00:00<?, ? examples/s]"
      ]
     },
     "metadata": {},
     "output_type": "display_data"
    },
    {
     "name": "stdout",
     "output_type": "stream",
     "text": [
      "Dataset({\n",
      "    features: ['id', 'repo', 'path', 'func_name', 'original_string', 'language', 'code', 'code_tokens', 'docstring', 'docstring_tokens', 'sha', 'url', '__index_level_0__', 'input_ids', 'attention_mask', 'decoder_input_ids', 'decoder_attention_mask', 'labels', 'input_strings'],\n",
      "    num_rows: 2000\n",
      "})\n",
      "Dataset({\n",
      "    features: ['id', 'repo', 'path', 'func_name', 'original_string', 'language', 'code', 'code_tokens', 'docstring', 'docstring_tokens', 'sha', 'url', '__index_level_0__', 'input_ids', 'attention_mask', 'decoder_input_ids', 'decoder_attention_mask', 'labels', 'input_strings'],\n",
      "    num_rows: 2000\n",
      "})\n",
      "Dataset({\n",
      "    features: ['id', 'repo', 'path', 'func_name', 'original_string', 'language', 'code', 'code_tokens', 'docstring', 'docstring_tokens', 'sha', 'url', '__index_level_0__', 'input_ids', 'attention_mask', 'decoder_input_ids', 'decoder_attention_mask', 'labels', 'input_strings'],\n",
      "    num_rows: 1000\n",
      "})\n"
     ]
    }
   ],
   "source": [
    "# Load the Tokenizer\n",
    "tokenizer_bert = AutoTokenizer.from_pretrained(\"neulab/codebert-java\")\n",
    "\n",
    "tokenizer_bert.bos_token = tokenizer_bert.cls_token\n",
    "tokenizer_bert.eos_token = tokenizer_bert.sep_token\n",
    "\n",
    "# make sure GPT2 appends EOS in begin and end\n",
    "def build_inputs_with_special_tokens(self, token_ids_0, token_ids_1=None):\n",
    "    outputs = [self.bos_token_id] + token_ids_0 + [self.eos_token_id]\n",
    "    return outputs\n",
    "\n",
    "GPT2Tokenizer.build_inputs_with_special_tokens = build_inputs_with_special_tokens\n",
    "tokenizer = GPT2Tokenizer.from_pretrained(\"gpt2\")\n",
    "# set pad_token_id to unk_token_id -> be careful here as unk_token_id == eos_token_id == bos_token_id\n",
    "tokenizer.pad_token = tokenizer.eos_token\n",
    "\n",
    "# Preprocess Function for Code Summarization\n",
    "def preprocess_function(examples):\n",
    "    # Create input strings with clear task instructions\n",
    "    inputs = []\n",
    "    labels = []\n",
    "\n",
    "    for i in range(len(examples[\"code\"])):\n",
    "        code_snippet = examples['code'][i]\n",
    "        docstring = examples['docstring'][i]\n",
    "        func_name = examples['func_name'][i]\n",
    "        docstring_tokens_samples = examples['docstring_tokens'][i][:2]\n",
    "        suffix = ' '.join(docstring_tokens_samples)\n",
    "\n",
    "        # Tokenize the code snippet and docstring to ensure they fit within limits\n",
    "        tokenized_code = tokenizer(code_snippet, truncation=True, max_length=495, return_tensors=\"pt\")\n",
    "        tokenized_docstring = tokenizer(docstring, truncation=True, max_length=123, return_tensors=\"pt\")\n",
    "\n",
    "        # Decode back to strings to concatenate\n",
    "        code_half = tokenizer.decode(tokenized_code[\"input_ids\"][0], skip_special_tokens=True)\n",
    "        docstring_half = tokenizer.decode(tokenized_docstring[\"input_ids\"][0], skip_special_tokens=True)\n",
    "\n",
    "        # Concatenate the prompt with the truncated code snippet and docstring\n",
    "        # code_prompt = (\n",
    "        #     f\"{code_half} SUMMARY: {suffix} \"\n",
    "        # )\n",
    "        code_prompt = (\n",
    "            f\"Please write a summary for the code of {func_name}: {code_half} <The summary>: \"\n",
    "        )\n",
    "        \n",
    "        summary_prompt = (\n",
    "            f\"{docstring_half}\"\n",
    "        )\n",
    "        input_text = f\"{code_prompt}\"\n",
    "        label_text = f\"{summary_prompt}\"\n",
    "\n",
    "        inputs.append(input_text)\n",
    "        labels.append(label_text)\n",
    "\n",
    "    max_length = 512  # Truncate/pad sequences to this length\n",
    "    max_length_gpt = 128\n",
    "\n",
    "    # Tokenize inputs and targets\n",
    "    tokenized_inputs = tokenizer_bert(\n",
    "        inputs, truncation=True, padding=\"max_length\", max_length=max_length, return_tensors=\"pt\"\n",
    "    )\n",
    "    \n",
    "    tokenized_labels = tokenizer(\n",
    "        labels, truncation=True, padding=\"max_length\", max_length=max_length_gpt, return_tensors=\"pt\"\n",
    "    )\n",
    "    \n",
    "    # Align labels with tokenized target inputs\n",
    "    # labels = tokenized_labels[\"input_ids\"].clone()\n",
    "    # labels[labels == tokenizer.pad_token_id] = -100  # Replace padding token IDs with -100 for loss computation\n",
    "    # labels = [\n",
    "    #     [-100 if mask == 0 else token for mask, token in mask_and_tokens] for mask_and_tokens in [zip(masks, labels) for masks, labels in zip(tokenized_labels.attention_mask, labels)]\n",
    "    # ]\n",
    "\n",
    "    # assert all([len(x) == max_length for x in tokenized_inputs.input_ids])\n",
    "    # assert all([len(x) == max_length_gpt for x in labels])\n",
    "    \n",
    "    output_ids = tokenized_labels[\"input_ids\"].clone()\n",
    "    shifted_input_ids = output_ids.new_zeros(output_ids.shape)\n",
    "    shifted_input_ids[:, :-1] = output_ids[:, 1:].clone()   # del CLS token\n",
    "    shifted_input_ids[:, -1] = tokenizer.pad_token_id   # append [PAD] token\n",
    "    labels = shifted_input_ids\n",
    "\n",
    "    # We have to make sure that the PAD token is ignored\n",
    "    # labels[labels == tokenizer.pad_token_id] = -100  # Replace padding token IDs with -100 for loss computation\n",
    "    labels = [\n",
    "        [-100 if mask == 0 else token for mask, token in mask_and_tokens] for mask_and_tokens in [zip(masks, labels) for masks, labels in zip(tokenized_labels.attention_mask, labels)]\n",
    "    ]\n",
    "\n",
    "\n",
    "    return {\n",
    "        \"input_ids\": tokenized_inputs[\"input_ids\"],\n",
    "        \"attention_mask\": tokenized_inputs[\"attention_mask\"],\n",
    "        \"decoder_input_ids\": tokenized_labels[\"input_ids\"],\n",
    "        \"decoder_attention_mask\": tokenized_labels[\"attention_mask\"],\n",
    "        \"labels\": labels,\n",
    "        \"input_strings\": inputs,\n",
    "    }\n",
    "\n",
    "# Load the datasets\n",
    "tokenized_train_dataset = train_hf_dataset.map(preprocess_function, batched=True, batch_size=4)\n",
    "tokenized_validation_dataset = validation_hf_dataset.map(preprocess_function, batched=True, batch_size=4)\n",
    "tokenized_test_dataset = test_hf_dataset.map(preprocess_function, batched=True, batch_size=4)\n",
    "print(tokenized_train_dataset)\n",
    "print(tokenized_validation_dataset)\n",
    "print(tokenized_test_dataset)"
   ]
  },
  {
   "cell_type": "code",
   "execution_count": 6,
   "id": "bc568aed-a095-41d7-8a0c-25d7e2bd5153",
   "metadata": {
    "tags": []
   },
   "outputs": [
    {
     "data": {
      "text/plain": [
       "'Please write a summary for the code of Category.translate: public void translate(TranslationService translationService) {\\n    if (translationService == null) {\\n      description.setValue(descriptionKey.getValue());\\n      return;\\n    }\\n\\n    if (!Strings.isNullOrEmpty(descriptionKey.get())) {\\n      description.setValue(translationService.translate(descriptionKey.get()));\\n    }\\n  } <The summary>: '"
      ]
     },
     "execution_count": 6,
     "metadata": {},
     "output_type": "execute_result"
    }
   ],
   "source": [
    "tokenizer_bert.decode(tokenized_train_dataset[\"input_ids\"][1][0:], skip_special_tokens=True)"
   ]
  },
  {
   "cell_type": "code",
   "execution_count": 7,
   "id": "cbcc10a9-f398-48e1-99b0-7eb61d74f495",
   "metadata": {
    "tags": []
   },
   "outputs": [
    {
     "data": {
      "text/plain": [
       "'This internal method is used as a callback for when the translation\\nservice or its locale changes. Also applies the translation to all\\ncontained sections.\\n\\n@see com.dlsc.formsfx.model.structure.Group ::translate'"
      ]
     },
     "execution_count": 7,
     "metadata": {},
     "output_type": "execute_result"
    }
   ],
   "source": [
    "tokenizer.decode(tokenized_train_dataset[\"labels\"][1][:52], skip_special_tokens=True)"
   ]
  },
  {
   "cell_type": "code",
   "execution_count": 8,
   "id": "f6f88b7a-54a7-44f1-b6ac-d1883d9ecdae",
   "metadata": {
    "tags": []
   },
   "outputs": [
    {
     "name": "stderr",
     "output_type": "stream",
     "text": [
      "Some weights of RobertaModel were not initialized from the model checkpoint at neulab/codebert-java and are newly initialized: ['roberta.pooler.dense.bias', 'roberta.pooler.dense.weight']\n",
      "You should probably TRAIN this model on a down-stream task to be able to use it for predictions and inference.\n",
      "Some weights of GPT2LMHeadModel were not initialized from the model checkpoint at gpt2 and are newly initialized: ['h.0.crossattention.c_attn.bias', 'h.0.crossattention.c_attn.weight', 'h.0.crossattention.c_proj.bias', 'h.0.crossattention.c_proj.weight', 'h.0.crossattention.q_attn.bias', 'h.0.crossattention.q_attn.weight', 'h.0.ln_cross_attn.bias', 'h.0.ln_cross_attn.weight', 'h.1.crossattention.c_attn.bias', 'h.1.crossattention.c_attn.weight', 'h.1.crossattention.c_proj.bias', 'h.1.crossattention.c_proj.weight', 'h.1.crossattention.q_attn.bias', 'h.1.crossattention.q_attn.weight', 'h.1.ln_cross_attn.bias', 'h.1.ln_cross_attn.weight', 'h.10.crossattention.c_attn.bias', 'h.10.crossattention.c_attn.weight', 'h.10.crossattention.c_proj.bias', 'h.10.crossattention.c_proj.weight', 'h.10.crossattention.q_attn.bias', 'h.10.crossattention.q_attn.weight', 'h.10.ln_cross_attn.bias', 'h.10.ln_cross_attn.weight', 'h.11.crossattention.c_attn.bias', 'h.11.crossattention.c_attn.weight', 'h.11.crossattention.c_proj.bias', 'h.11.crossattention.c_proj.weight', 'h.11.crossattention.q_attn.bias', 'h.11.crossattention.q_attn.weight', 'h.11.ln_cross_attn.bias', 'h.11.ln_cross_attn.weight', 'h.2.crossattention.c_attn.bias', 'h.2.crossattention.c_attn.weight', 'h.2.crossattention.c_proj.bias', 'h.2.crossattention.c_proj.weight', 'h.2.crossattention.q_attn.bias', 'h.2.crossattention.q_attn.weight', 'h.2.ln_cross_attn.bias', 'h.2.ln_cross_attn.weight', 'h.3.crossattention.c_attn.bias', 'h.3.crossattention.c_attn.weight', 'h.3.crossattention.c_proj.bias', 'h.3.crossattention.c_proj.weight', 'h.3.crossattention.q_attn.bias', 'h.3.crossattention.q_attn.weight', 'h.3.ln_cross_attn.bias', 'h.3.ln_cross_attn.weight', 'h.4.crossattention.c_attn.bias', 'h.4.crossattention.c_attn.weight', 'h.4.crossattention.c_proj.bias', 'h.4.crossattention.c_proj.weight', 'h.4.crossattention.q_attn.bias', 'h.4.crossattention.q_attn.weight', 'h.4.ln_cross_attn.bias', 'h.4.ln_cross_attn.weight', 'h.5.crossattention.c_attn.bias', 'h.5.crossattention.c_attn.weight', 'h.5.crossattention.c_proj.bias', 'h.5.crossattention.c_proj.weight', 'h.5.crossattention.q_attn.bias', 'h.5.crossattention.q_attn.weight', 'h.5.ln_cross_attn.bias', 'h.5.ln_cross_attn.weight', 'h.6.crossattention.c_attn.bias', 'h.6.crossattention.c_attn.weight', 'h.6.crossattention.c_proj.bias', 'h.6.crossattention.c_proj.weight', 'h.6.crossattention.q_attn.bias', 'h.6.crossattention.q_attn.weight', 'h.6.ln_cross_attn.bias', 'h.6.ln_cross_attn.weight', 'h.7.crossattention.c_attn.bias', 'h.7.crossattention.c_attn.weight', 'h.7.crossattention.c_proj.bias', 'h.7.crossattention.c_proj.weight', 'h.7.crossattention.q_attn.bias', 'h.7.crossattention.q_attn.weight', 'h.7.ln_cross_attn.bias', 'h.7.ln_cross_attn.weight', 'h.8.crossattention.c_attn.bias', 'h.8.crossattention.c_attn.weight', 'h.8.crossattention.c_proj.bias', 'h.8.crossattention.c_proj.weight', 'h.8.crossattention.q_attn.bias', 'h.8.crossattention.q_attn.weight', 'h.8.ln_cross_attn.bias', 'h.8.ln_cross_attn.weight', 'h.9.crossattention.c_attn.bias', 'h.9.crossattention.c_attn.weight', 'h.9.crossattention.c_proj.bias', 'h.9.crossattention.c_proj.weight', 'h.9.crossattention.q_attn.bias', 'h.9.crossattention.q_attn.weight', 'h.9.ln_cross_attn.bias', 'h.9.ln_cross_attn.weight']\n",
      "You should probably TRAIN this model on a down-stream task to be able to use it for predictions and inference.\n",
      "EncoderDecoderModel has generative capabilities, as `prepare_inputs_for_generation` is explicitly overwritten. However, it doesn't directly inherit from `GenerationMixin`. From 👉v4.50👈 onwards, `PreTrainedModel` will NOT inherit from `GenerationMixin`, and this model will lose the ability to call `generate` and other related functions.\n",
      "  - If you're using `trust_remote_code=True`, you can get rid of this warning by loading the model with an auto class. See https://huggingface.co/docs/transformers/en/model_doc/auto#auto-classes\n",
      "  - If you are the owner of the model architecture code, please modify your model class such that it inherits from `GenerationMixin` (after `PreTrainedModel`, otherwise you'll get an exception).\n",
      "  - If you are not the owner of the model architecture class, please contact the model code owner to update it.\n"
     ]
    }
   ],
   "source": [
    "# Load pre-trained model\n",
    "logging.basicConfig(level=logging.INFO)\n",
    "\n",
    "bert = AutoModel.from_pretrained(\"neulab/codebert-java\")\n",
    "gpt2 = GPT2LMHeadModel.from_pretrained(\"gpt2\", add_cross_attention=True, is_decoder=True)\n",
    "\n",
    "model = EncoderDecoderModel(encoder=bert, decoder=gpt2)\n",
    "\n",
    "# model.decoder.config.use_cache = False\n",
    "\n",
    "# set decoding params\n",
    "model.decoder.config.pad_token_id = model.decoder.config.eos_token_id\n",
    "model.config.decoder_start_token_id = tokenizer.bos_token_id\n",
    "model.decoder.config.eos_token_id = tokenizer.eos_token_id\n",
    "\n",
    "model.config.no_repeat_ngram_size = 2\n",
    "model.num_beams = 3"
   ]
  },
  {
   "cell_type": "code",
   "execution_count": null,
   "id": "cec8054b-fad3-4ea2-8b24-6387050578bf",
   "metadata": {
    "tags": []
   },
   "outputs": [],
   "source": [
    "# # Config LoRA specifications\n",
    "# lora_config = LoraConfig(\n",
    "#     # r=4096,  # lower the rank\n",
    "#     r=2048,  # lower the rank\n",
    "#     lora_alpha=32,\n",
    "#     # target_modules=[\"q\", \"v\"],  # apply LoRA to q and v of attention modules\n",
    "#     # target_modules=[\"c_attn\"],  # target query, key, and value together\n",
    "#     target_modules=[\n",
    "#                     \"c_attn\",\n",
    "#                     \"attn.c_attn\",\n",
    "#                     \"attn.q_proj\",\n",
    "#                     \"attn.k_proj\",\n",
    "#                     \"attn.v_proj\",\n",
    "#                     \"attn.c_proj\",\n",
    "#                     \"mlp.c_fc\",\n",
    "#                     \"mlp.c_proj\",\n",
    "#                     \"query\", \n",
    "#                     \"value\",\n",
    "#                     ],  # module names for GPT2 and BERT\n",
    "#     lora_dropout=0.1,\n",
    "#     bias=\"none\",\n",
    "#     # task_type=\"SEQ_2_SEQ_LM\",  # task type set to seq2seq generation\n",
    "#     # task_type=\"SEQ_CLS\",  # task type set to text classification\n",
    "#     task_type=\"CAUSAL_LM\",\n",
    "#     fan_in_fan_out=True,\n",
    "# )\n",
    "\n",
    "# # Convert the model to LoRA model\n",
    "# model = get_peft_model(model, lora_config)\n",
    "\n",
    "# # Check the number of trainable parameters (for LoRA)\n",
    "# model.print_trainable_parameters()"
   ]
  },
  {
   "cell_type": "code",
   "execution_count": 9,
   "id": "697b119a-76bc-4b06-85be-d9b5c349293e",
   "metadata": {
    "tags": []
   },
   "outputs": [
    {
     "name": "stderr",
     "output_type": "stream",
     "text": [
      "huggingface/tokenizers: The current process just got forked, after parallelism has already been used. Disabling parallelism to avoid deadlocks...\n",
      "To disable this warning, you can either:\n",
      "\t- Avoid using `tokenizers` before the fork if possible\n",
      "\t- Explicitly set the environment variable TOKENIZERS_PARALLELISM=(true | false)\n",
      "huggingface/tokenizers: The current process just got forked, after parallelism has already been used. Disabling parallelism to avoid deadlocks...\n",
      "To disable this warning, you can either:\n",
      "\t- Avoid using `tokenizers` before the fork if possible\n",
      "\t- Explicitly set the environment variable TOKENIZERS_PARALLELISM=(true | false)\n",
      "/opt/conda/envs/pytorch/lib/python3.10/site-packages/transformers/models/encoder_decoder/modeling_encoder_decoder.py:643: FutureWarning: Version v4.12.0 introduces a better way to train encoder-decoder models by computing the loss inside the encoder-decoder framework rather than in the decoder itself. You may observe training discrepancies if fine-tuning a model trained with versions anterior to 4.12.0. The decoder_input_ids are now created based on the labels, no need to pass them yourself anymore.\n",
      "  warnings.warn(DEPRECATION_WARNING, FutureWarning)\n"
     ]
    },
    {
     "data": {
      "text/html": [
       "\n",
       "    <div>\n",
       "      \n",
       "      <progress value='6000' max='6000' style='width:300px; height:20px; vertical-align: middle;'></progress>\n",
       "      [6000/6000 22:07, Epoch 12/12]\n",
       "    </div>\n",
       "    <table border=\"1\" class=\"dataframe\">\n",
       "  <thead>\n",
       " <tr style=\"text-align: left;\">\n",
       "      <th>Step</th>\n",
       "      <th>Training Loss</th>\n",
       "    </tr>\n",
       "  </thead>\n",
       "  <tbody>\n",
       "    <tr>\n",
       "      <td>100</td>\n",
       "      <td>4.055500</td>\n",
       "    </tr>\n",
       "    <tr>\n",
       "      <td>200</td>\n",
       "      <td>3.668000</td>\n",
       "    </tr>\n",
       "    <tr>\n",
       "      <td>300</td>\n",
       "      <td>3.693900</td>\n",
       "    </tr>\n",
       "    <tr>\n",
       "      <td>400</td>\n",
       "      <td>3.631900</td>\n",
       "    </tr>\n",
       "    <tr>\n",
       "      <td>500</td>\n",
       "      <td>3.587000</td>\n",
       "    </tr>\n",
       "    <tr>\n",
       "      <td>600</td>\n",
       "      <td>2.679700</td>\n",
       "    </tr>\n",
       "    <tr>\n",
       "      <td>700</td>\n",
       "      <td>2.691900</td>\n",
       "    </tr>\n",
       "    <tr>\n",
       "      <td>800</td>\n",
       "      <td>2.749500</td>\n",
       "    </tr>\n",
       "    <tr>\n",
       "      <td>900</td>\n",
       "      <td>2.742000</td>\n",
       "    </tr>\n",
       "    <tr>\n",
       "      <td>1000</td>\n",
       "      <td>2.712100</td>\n",
       "    </tr>\n",
       "    <tr>\n",
       "      <td>1100</td>\n",
       "      <td>1.850300</td>\n",
       "    </tr>\n",
       "    <tr>\n",
       "      <td>1200</td>\n",
       "      <td>1.907800</td>\n",
       "    </tr>\n",
       "    <tr>\n",
       "      <td>1300</td>\n",
       "      <td>1.951100</td>\n",
       "    </tr>\n",
       "    <tr>\n",
       "      <td>1400</td>\n",
       "      <td>2.015700</td>\n",
       "    </tr>\n",
       "    <tr>\n",
       "      <td>1500</td>\n",
       "      <td>1.965800</td>\n",
       "    </tr>\n",
       "    <tr>\n",
       "      <td>1600</td>\n",
       "      <td>1.231000</td>\n",
       "    </tr>\n",
       "    <tr>\n",
       "      <td>1700</td>\n",
       "      <td>1.287100</td>\n",
       "    </tr>\n",
       "    <tr>\n",
       "      <td>1800</td>\n",
       "      <td>1.352800</td>\n",
       "    </tr>\n",
       "    <tr>\n",
       "      <td>1900</td>\n",
       "      <td>1.327900</td>\n",
       "    </tr>\n",
       "    <tr>\n",
       "      <td>2000</td>\n",
       "      <td>1.350900</td>\n",
       "    </tr>\n",
       "    <tr>\n",
       "      <td>2100</td>\n",
       "      <td>0.855800</td>\n",
       "    </tr>\n",
       "    <tr>\n",
       "      <td>2200</td>\n",
       "      <td>0.877400</td>\n",
       "    </tr>\n",
       "    <tr>\n",
       "      <td>2300</td>\n",
       "      <td>0.909200</td>\n",
       "    </tr>\n",
       "    <tr>\n",
       "      <td>2400</td>\n",
       "      <td>0.943800</td>\n",
       "    </tr>\n",
       "    <tr>\n",
       "      <td>2500</td>\n",
       "      <td>0.952500</td>\n",
       "    </tr>\n",
       "    <tr>\n",
       "      <td>2600</td>\n",
       "      <td>0.629900</td>\n",
       "    </tr>\n",
       "    <tr>\n",
       "      <td>2700</td>\n",
       "      <td>0.655400</td>\n",
       "    </tr>\n",
       "    <tr>\n",
       "      <td>2800</td>\n",
       "      <td>0.668800</td>\n",
       "    </tr>\n",
       "    <tr>\n",
       "      <td>2900</td>\n",
       "      <td>0.697000</td>\n",
       "    </tr>\n",
       "    <tr>\n",
       "      <td>3000</td>\n",
       "      <td>0.697200</td>\n",
       "    </tr>\n",
       "    <tr>\n",
       "      <td>3100</td>\n",
       "      <td>0.473800</td>\n",
       "    </tr>\n",
       "    <tr>\n",
       "      <td>3200</td>\n",
       "      <td>0.512300</td>\n",
       "    </tr>\n",
       "    <tr>\n",
       "      <td>3300</td>\n",
       "      <td>0.535200</td>\n",
       "    </tr>\n",
       "    <tr>\n",
       "      <td>3400</td>\n",
       "      <td>0.532400</td>\n",
       "    </tr>\n",
       "    <tr>\n",
       "      <td>3500</td>\n",
       "      <td>0.544100</td>\n",
       "    </tr>\n",
       "    <tr>\n",
       "      <td>3600</td>\n",
       "      <td>0.402300</td>\n",
       "    </tr>\n",
       "    <tr>\n",
       "      <td>3700</td>\n",
       "      <td>0.429400</td>\n",
       "    </tr>\n",
       "    <tr>\n",
       "      <td>3800</td>\n",
       "      <td>0.422200</td>\n",
       "    </tr>\n",
       "    <tr>\n",
       "      <td>3900</td>\n",
       "      <td>0.419300</td>\n",
       "    </tr>\n",
       "    <tr>\n",
       "      <td>4000</td>\n",
       "      <td>0.437200</td>\n",
       "    </tr>\n",
       "    <tr>\n",
       "      <td>4100</td>\n",
       "      <td>0.352700</td>\n",
       "    </tr>\n",
       "    <tr>\n",
       "      <td>4200</td>\n",
       "      <td>0.362600</td>\n",
       "    </tr>\n",
       "    <tr>\n",
       "      <td>4300</td>\n",
       "      <td>0.364700</td>\n",
       "    </tr>\n",
       "    <tr>\n",
       "      <td>4400</td>\n",
       "      <td>0.370100</td>\n",
       "    </tr>\n",
       "    <tr>\n",
       "      <td>4500</td>\n",
       "      <td>0.349500</td>\n",
       "    </tr>\n",
       "    <tr>\n",
       "      <td>4600</td>\n",
       "      <td>0.300700</td>\n",
       "    </tr>\n",
       "    <tr>\n",
       "      <td>4700</td>\n",
       "      <td>0.291200</td>\n",
       "    </tr>\n",
       "    <tr>\n",
       "      <td>4800</td>\n",
       "      <td>0.325900</td>\n",
       "    </tr>\n",
       "    <tr>\n",
       "      <td>4900</td>\n",
       "      <td>0.326500</td>\n",
       "    </tr>\n",
       "    <tr>\n",
       "      <td>5000</td>\n",
       "      <td>0.318800</td>\n",
       "    </tr>\n",
       "    <tr>\n",
       "      <td>5100</td>\n",
       "      <td>0.270100</td>\n",
       "    </tr>\n",
       "    <tr>\n",
       "      <td>5200</td>\n",
       "      <td>0.283200</td>\n",
       "    </tr>\n",
       "    <tr>\n",
       "      <td>5300</td>\n",
       "      <td>0.269600</td>\n",
       "    </tr>\n",
       "    <tr>\n",
       "      <td>5400</td>\n",
       "      <td>0.278200</td>\n",
       "    </tr>\n",
       "    <tr>\n",
       "      <td>5500</td>\n",
       "      <td>0.285400</td>\n",
       "    </tr>\n",
       "    <tr>\n",
       "      <td>5600</td>\n",
       "      <td>0.230800</td>\n",
       "    </tr>\n",
       "    <tr>\n",
       "      <td>5700</td>\n",
       "      <td>0.257000</td>\n",
       "    </tr>\n",
       "    <tr>\n",
       "      <td>5800</td>\n",
       "      <td>0.260500</td>\n",
       "    </tr>\n",
       "    <tr>\n",
       "      <td>5900</td>\n",
       "      <td>0.244900</td>\n",
       "    </tr>\n",
       "    <tr>\n",
       "      <td>6000</td>\n",
       "      <td>0.246800</td>\n",
       "    </tr>\n",
       "  </tbody>\n",
       "</table><p>"
      ],
      "text/plain": [
       "<IPython.core.display.HTML object>"
      ]
     },
     "metadata": {},
     "output_type": "display_data"
    },
    {
     "name": "stderr",
     "output_type": "stream",
     "text": [
      "/opt/conda/envs/pytorch/lib/python3.10/site-packages/transformers/modeling_utils.py:2618: UserWarning: Moving the following attributes in the config to the generation config: {'no_repeat_ngram_size': 2}. You are seeing this warning because you've set generation parameters in the model config, as opposed to in the generation config.\n",
      "  warnings.warn(\n"
     ]
    },
    {
     "name": "stdout",
     "output_type": "stream",
     "text": [
      "LoRA fine-tuning done, model saved!\n"
     ]
    }
   ],
   "source": [
    "# Adjust the batch size\n",
    "batch_size = 4\n",
    "training_args = TrainingArguments(\n",
    "    output_dir=\"./results/codeBert-GPT2-c2s\",\n",
    "    # eval_strategy=\"epoch\",\n",
    "    learning_rate=5e-4,\n",
    "    per_device_train_batch_size=batch_size,\n",
    "    per_device_eval_batch_size=batch_size,\n",
    "    metric_for_best_model=\"f1\",\n",
    "    weight_decay=0.01,\n",
    "    num_train_epochs=12,\n",
    "    save_strategy=\"no\",\n",
    "    logging_strategy=\"steps\",\n",
    "    logging_steps=100,\n",
    "    report_to=\"mlflow\",  # disable wandb etc.\n",
    "    fp16=True,  # mixed precision training\n",
    "    optim=\"adamw_torch\",  # use torch original optimizer\n",
    ")\n",
    "\n",
    "def compute_metrics(eval_pred):\n",
    "    predictions, labels = eval_pred\n",
    "\n",
    "    # Extract logits from tuple and process predictions\n",
    "    predictions = predictions[0]  # Extract the array\n",
    "    predictions = np.argmax(predictions, axis=-1)  # Convert logits to token IDs\n",
    "    predictions = predictions.tolist()  # Convert to a list\n",
    "\n",
    "    # Decode predictions and labels\n",
    "    decoded_preds = tokenizer.batch_decode(predictions, skip_special_tokens=True)\n",
    "    decoded_labels = tokenizer.batch_decode(labels, skip_special_tokens=True)\n",
    "    \n",
    "    # Format labels for BLEU (expects list of lists for references)\n",
    "    decoded_labels = [[label] for label in decoded_labels]\n",
    "\n",
    "    # Compute BLEU score using sacrebleu\n",
    "    bleu = corpus_bleu(decoded_preds, decoded_labels)\n",
    "\n",
    "    return {\"bleu\": bleu.score}\n",
    "\n",
    "# Define Trainer\n",
    "trainer = Trainer(\n",
    "    model=model,\n",
    "    args=training_args,\n",
    "    # compute_metrics=compute_metrics,\n",
    "    # train_dataset=tokenized_train_dataset.select(range(100)),\n",
    "    train_dataset=tokenized_train_dataset,\n",
    "    # eval_dataset=tokenized_validation_dataset,\n",
    ")\n",
    "\n",
    "# Start Training\n",
    "trainer.train()\n",
    "\n",
    "# Save the model after LoRA fine-tuing\n",
    "model.save_pretrained(\"./codeBert-GPT2-c2s/model\")\n",
    "tokenizer.save_pretrained(\"./codeBert-GPT2-c2s/tokenizer\")\n",
    "\n",
    "print(\"LoRA fine-tuning done, model saved!\")"
   ]
  },
  {
   "cell_type": "code",
   "execution_count": 10,
   "id": "9cea2827-afe9-4858-8cd5-633e00676609",
   "metadata": {
    "tags": []
   },
   "outputs": [
    {
     "data": {
      "application/vnd.jupyter.widget-view+json": {
       "model_id": "d43259928b5a4dc1b897106419d920a5",
       "version_major": 2,
       "version_minor": 0
      },
      "text/plain": [
       "  0%|          | 0/1000 [00:00<?, ?it/s]"
      ]
     },
     "metadata": {},
     "output_type": "display_data"
    },
    {
     "name": "stderr",
     "output_type": "stream",
     "text": [
      "The attention mask is not set and cannot be inferred from input because pad token is same as eos token. As a consequence, you may observe unexpected behavior. Please pass your input's `attention_mask` to obtain reliable results.\n"
     ]
    }
   ],
   "source": [
    "model.to(\"cuda:0\")\n",
    "pred = []\n",
    "for i in tqdm(KeyDataset(tokenized_test_dataset, \"input_strings\")):\n",
    "    input_ids = tokenizer_bert(\n",
    "                i, truncation=True, padding=\"max_length\", max_length=512, return_tensors=\"pt\"\n",
    "                ).input_ids.to(\"cuda:0\")\n",
    "    output_ids = model.generate(input_ids,\n",
    "                            do_sample=True,\n",
    "                            # tokenizer=tokenizer,\n",
    "                            max_new_tokens=25,\n",
    "                            min_new_tokens=12,\n",
    "                            pad_token_id=tokenizer.eos_token_id,\n",
    "                            temperature=0.5,\n",
    "                            num_beams=5,\n",
    "                            early_stopping=True,\n",
    "                            no_repeat_ngram_size=3,\n",
    "                            top_k=50,\n",
    "                            top_p=0.9,\n",
    "                           )\n",
    "    pred.append(tokenizer.decode(output_ids[0], skip_special_tokens=True))"
   ]
  },
  {
   "cell_type": "code",
   "execution_count": 11,
   "id": "6332292c-a3b7-4085-a497-aa4e912dda4d",
   "metadata": {
    "tags": []
   },
   "outputs": [
    {
     "data": {
      "application/vnd.jupyter.widget-view+json": {
       "model_id": "60df710d7f5c4e1fa6cec6a1be541982",
       "version_major": 2,
       "version_minor": 0
      },
      "text/plain": [
       "  0%|          | 0/1000 [00:00<?, ?it/s]"
      ]
     },
     "metadata": {},
     "output_type": "display_data"
    },
    {
     "name": "stdout",
     "output_type": "stream",
     "text": [
      "BERT-GPT2: [\"Returns a list of class fields. Supports inheritance and doesn't return synthetic fields.\\n\\n@param beanClass class to be\"]\n",
      "\n",
      "\n",
      "Label: [['Import Pipeline Fragment Configuration & Rules\\n\\n@param fragmentId Fragment  Id\\n@return fragmentEnvelope']]\n",
      "******************************\n",
      "BERT-GPT2: ['Sets the publish queue shutdown time.\\n\\n@param publishQueueShutdowntime the shutdown time to set, parsed']\n",
      "\n",
      "\n",
      "Label: [['deserialize request command\\n\\n@return true if deserialize success; false if exception catched']]\n",
      "******************************\n",
      "BERT-GPT2: ['Creates a new node as a child of the current node.\\n\\n@param name the name of the new node\\n']\n",
      "\n",
      "\n",
      "Label: [['Appends TO address by personal name and email address.\\n\\n@param personalName personal name.\\n@param to           email address.\\n@return this\\n@see #to(EmailAddress)']]\n",
      "******************************\n"
     ]
    }
   ],
   "source": [
    "google_bleu = evaluate.load(\"google_bleu\")\n",
    "google_bleu_scores = []\n",
    "flag = 3\n",
    "for i, v in enumerate(tqdm(pred)):\n",
    "    if flag:\n",
    "        print(f\"BERT-GPT2: {[v]}\")\n",
    "        print(\"\\n\")\n",
    "        print(f'Label: {[[tokenized_test_dataset[\"docstring\"][i]]]}')\n",
    "        print(\"*\" * 30)\n",
    "        flag -= 1\n",
    "    google_bleu_scores.append(\n",
    "                              google_bleu.compute(\n",
    "                                                  predictions=[v], \n",
    "                                                  references=[[tokenized_test_dataset[\"docstring\"][i]]]\n",
    "                                                  )['google_bleu']\n",
    "                             )"
   ]
  },
  {
   "cell_type": "code",
   "execution_count": 12,
   "id": "496c1173-9f32-4e5a-b515-5ea825bda81a",
   "metadata": {
    "tags": []
   },
   "outputs": [
    {
     "name": "stdout",
     "output_type": "stream",
     "text": [
      "Average BLEU Score: 3.7891931265051997\n"
     ]
    }
   ],
   "source": [
    "total_bleu = sum(google_bleu_scores)\n",
    "average_bleu = total_bleu / len(google_bleu_scores)\n",
    "\n",
    "print(f\"Average BLEU Score: {average_bleu * 100}\")"
   ]
  }
 ],
 "metadata": {
  "environment": {
   "kernel": "conda-env-pytorch-pytorch",
   "name": "workbench-notebooks.m126",
   "type": "gcloud",
   "uri": "us-docker.pkg.dev/deeplearning-platform-release/gcr.io/workbench-notebooks:m126"
  },
  "kernelspec": {
   "display_name": "PyTorch 1-13",
   "language": "python",
   "name": "conda-env-pytorch-pytorch"
  },
  "language_info": {
   "codemirror_mode": {
    "name": "ipython",
    "version": 3
   },
   "file_extension": ".py",
   "mimetype": "text/x-python",
   "name": "python",
   "nbconvert_exporter": "python",
   "pygments_lexer": "ipython3",
   "version": "3.10.15"
  }
 },
 "nbformat": 4,
 "nbformat_minor": 5
}
