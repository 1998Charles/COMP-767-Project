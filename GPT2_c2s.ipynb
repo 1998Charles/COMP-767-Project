{
 "cells": [
  {
   "cell_type": "markdown",
   "id": "4df4bdf3-d5c1-4cc1-8fc1-afcbe89ac1ab",
   "metadata": {
    "tags": []
   },
   "source": [
    "# Check GPUs and Install libraries"
   ]
  },
  {
   "cell_type": "code",
   "execution_count": 1,
   "id": "1bc8ec6e-ee1a-48d9-81e0-10668a1ba35c",
   "metadata": {
    "tags": []
   },
   "outputs": [
    {
     "name": "stdout",
     "output_type": "stream",
     "text": [
      "GPU 0: NVIDIA L4 (UUID: GPU-df7e561c-3e29-f733-3130-b65c68dce7a7)\n",
      "\n"
     ]
    }
   ],
   "source": [
    "#@title 1.1 Check GPU Status\n",
    "import subprocess\n",
    "simple_nvidia_smi_display = True#@param {type:\"boolean\"}\n",
    "if simple_nvidia_smi_display:\n",
    "  #!nvidia-smi\n",
    "  nvidiasmi_output = subprocess.run(['nvidia-smi', '-L'], stdout=subprocess.PIPE).stdout.decode('utf-8')\n",
    "  print(nvidiasmi_output)\n",
    "else:\n",
    "  #!nvidia-smi -i 0 -e 0\n",
    "  nvidiasmi_output = subprocess.run(['nvidia-smi'], stdout=subprocess.PIPE).stdout.decode('utf-8')\n",
    "  print(nvidiasmi_output)\n",
    "  nvidiasmi_ecc_note = subprocess.run(['nvidia-smi', '-i', '0', '-e', '0'], stdout=subprocess.PIPE).stdout.decode('utf-8')\n",
    "  print(nvidiasmi_ecc_note)"
   ]
  },
  {
   "cell_type": "markdown",
   "id": "66a4a999-c251-457e-83fb-7cad11f24b79",
   "metadata": {
    "tags": []
   },
   "source": [
    "# Imports"
   ]
  },
  {
   "cell_type": "code",
   "execution_count": 1,
   "id": "7499be5d-9144-4d1e-af98-df9b11d265ca",
   "metadata": {
    "tags": []
   },
   "outputs": [],
   "source": [
    "import pandas as pd\n",
    "from torch.utils.data import Dataset, DataLoader\n",
    "from transformers.pipelines.pt_utils import KeyDataset\n",
    "import torch\n",
    "from datasets import Dataset as HFDataset\n",
    "import numpy as np\n",
    "import evaluate\n",
    "\n",
    "from peft import LoraConfig, get_peft_model, PeftModel\n",
    "from datasets import load_dataset\n",
    "\n",
    "from transformers import (\n",
    "    pipeline,\n",
    "    AutoTokenizer,\n",
    "    AutoModel,\n",
    "    AutoModelForSequenceClassification,\n",
    "    BertConfig,\n",
    "    BertModel,\n",
    "    Trainer,\n",
    "    TrainingArguments,\n",
    "    Seq2SeqTrainer,\n",
    "    Seq2SeqTrainingArguments,\n",
    "    T5Tokenizer,\n",
    "    T5ForConditionalGeneration,\n",
    "    AutoTokenizer, \n",
    "    AutoModelForCausalLM,\n",
    "    AutoModelForSeq2SeqLM,\n",
    "    GPT2Model,\n",
    "    GPT2Config,\n",
    "    GPT2ForSequenceClassification,\n",
    "    GPT2Tokenizer,\n",
    "    GPT2LMHeadModel,\n",
    "    GPT2ForQuestionAnswering,\n",
    ")\n",
    "from sklearn.metrics import accuracy_score, precision_score, recall_score, f1_score\n",
    "from sklearn.model_selection import train_test_split\n",
    "import matplotlib.pyplot as plt\n",
    "from sacrebleu import corpus_bleu\n",
    "from tqdm.autonotebook import tqdm\n",
    "from accelerate import Accelerator"
   ]
  },
  {
   "cell_type": "markdown",
   "id": "ef111539-90dc-4c1f-91b1-acca869cf465",
   "metadata": {},
   "source": [
    "# Loading and Data pre-processing"
   ]
  },
  {
   "cell_type": "code",
   "execution_count": 2,
   "id": "d5ff8faf-b514-411e-8296-790781935de0",
   "metadata": {
    "tags": []
   },
   "outputs": [
    {
     "name": "stdout",
     "output_type": "stream",
     "text": [
      "Dataset({\n",
      "    features: ['id', 'repo', 'path', 'func_name', 'original_string', 'language', 'code', 'code_tokens', 'docstring', 'docstring_tokens', 'sha', 'url', '__index_level_0__'],\n",
      "    num_rows: 2000\n",
      "})\n",
      "Dataset({\n",
      "    features: ['id', 'repo', 'path', 'func_name', 'original_string', 'language', 'code', 'code_tokens', 'docstring', 'docstring_tokens', 'sha', 'url', '__index_level_0__'],\n",
      "    num_rows: 2000\n",
      "})\n",
      "Dataset({\n",
      "    features: ['id', 'repo', 'path', 'func_name', 'original_string', 'language', 'code', 'code_tokens', 'docstring', 'docstring_tokens', 'sha', 'url', '__index_level_0__'],\n",
      "    num_rows: 1000\n",
      "})\n"
     ]
    }
   ],
   "source": [
    "train_hf_dataset = HFDataset.load_from_disk(\"SubCodeXGLUE_train\")\n",
    "validation_hf_dataset = HFDataset.load_from_disk(\"SubCodeXGLUE_validation\")\n",
    "test_hf_dataset = HFDataset.load_from_disk(\"SubCodeXGLUE_test\")\n",
    "print(train_hf_dataset)\n",
    "print(validation_hf_dataset)\n",
    "print(test_hf_dataset)"
   ]
  },
  {
   "cell_type": "code",
   "execution_count": 3,
   "id": "02ff0ad0-0bec-44e4-b8d0-d7bb67214a1e",
   "metadata": {
    "tags": []
   },
   "outputs": [
    {
     "name": "stdout",
     "output_type": "stream",
     "text": [
      "Dataset({\n",
      "    features: ['id', 'repo', 'path', 'func_name', 'original_string', 'language', 'code', 'code_tokens', 'docstring', 'docstring_tokens', 'sha', 'url', '__index_level_0__', 'input_ids', 'attention_mask', 'labels', 'input_strings'],\n",
      "    num_rows: 2000\n",
      "})\n",
      "Dataset({\n",
      "    features: ['id', 'repo', 'path', 'func_name', 'original_string', 'language', 'code', 'code_tokens', 'docstring', 'docstring_tokens', 'sha', 'url', '__index_level_0__', 'input_ids', 'attention_mask', 'labels', 'input_strings'],\n",
      "    num_rows: 2000\n",
      "})\n",
      "Dataset({\n",
      "    features: ['id', 'repo', 'path', 'func_name', 'original_string', 'language', 'code', 'code_tokens', 'docstring', 'docstring_tokens', 'sha', 'url', '__index_level_0__', 'input_ids', 'attention_mask', 'labels', 'input_strings'],\n",
      "    num_rows: 1000\n",
      "})\n"
     ]
    }
   ],
   "source": [
    "# Load the Tokenizer\n",
    "\n",
    "# make sure GPT2 appends EOS in begin and end\n",
    "def build_inputs_with_special_tokens(self, token_ids_0, token_ids_1=None):\n",
    "    outputs = [self.bos_token_id] + token_ids_0 + [self.eos_token_id]\n",
    "    return outputs\n",
    "\n",
    "GPT2Tokenizer.build_inputs_with_special_tokens = build_inputs_with_special_tokens\n",
    "tokenizer = GPT2Tokenizer.from_pretrained(\"gpt2\")\n",
    "\n",
    "tokenizer.pad_token = tokenizer.eos_token  # GPT-2 doesn't have a pad token by default, so use eos_token\n",
    "special_tokens = {\"additional_special_tokens\": [\"<|startofcode|>\",\n",
    "                                                \"<|endofcode|>\", \n",
    "                                                \"<|startofsummary|>\",\n",
    "                                                \"<|endofsummary|>\",\n",
    "                                               ]}\n",
    "tokenizer.add_special_tokens(special_tokens)\n",
    "\n",
    "# tokenizer = AutoTokenizer.from_pretrained(\"lora-gpt-c2s/tokenizer\")\n",
    "\n",
    "# Preprocess Function for Code Summarization\n",
    "def preprocess_function(examples):\n",
    "    # Create input strings with clear task instructions\n",
    "    inputs = []\n",
    "    labels = []\n",
    "    input_strings = []\n",
    "\n",
    "    for i in range(len(examples[\"code\"])):\n",
    "        code_snippet = examples['code'][i]\n",
    "        docstring = examples['docstring'][i]\n",
    "        docstring_tokens_samples = examples['docstring_tokens'][i][:3]\n",
    "        suffix = ' '.join(docstring_tokens_samples)\n",
    "        \n",
    "        # Prompt construction with clear task instructions\n",
    "        # pre_prompt = (\n",
    "        #     f\"Please write a summary for the following Java code snippet:\\n{code_snippet}\\n\\n\"\n",
    "        # ) # 14\n",
    "        # pos_prompt = (\n",
    "        #     f\"A summary of the above Java code snippet is that:\\n{docstring}\"\n",
    "        # ) # 12\n",
    "        \n",
    "        # code_prompt = (\n",
    "        #     f\"<|startoftext|><|code|>\\n{code_snippet}<|summary|>\"\n",
    "        # ) # \n",
    "        # summary_prompt = (\n",
    "        #     f\"{docstring}<|endoftext|>\"\n",
    "        # ) # \n",
    "\n",
    "        # Tokenize the code snippet and docstring to ensure they fit within limits\n",
    "        # tokenized_code = tokenizer(pre_prompt, truncation=True, max_length=408, return_tensors=\"pt\")\n",
    "        tokenized_code = tokenizer(code_snippet, truncation=True, max_length=919, return_tensors=\"pt\")\n",
    "        tokenized_docstring = tokenizer(docstring, truncation=True, max_length=90, return_tensors=\"pt\")\n",
    "\n",
    "        # Decode back to strings to concatenate\n",
    "        code_half = tokenizer.decode(tokenized_code[\"input_ids\"][0], skip_special_tokens=True)\n",
    "        docstring_half = tokenizer.decode(tokenized_docstring[\"input_ids\"][0], skip_special_tokens=True)\n",
    "\n",
    "        # Concatenate the prompt with the truncated code snippet and docstring\n",
    "        code_prompt_suffixed = (\n",
    "            f\"<|startofcode|>{code_half}<|endofcode|><|startofsummary|> SUMMARY: {suffix} \"\n",
    "        )\n",
    "        code_prompt = (\n",
    "            f\"<|startofcode|>{code_half}<|endofcode|><|startofsummary|> SUMMARY: \"\n",
    "        )\n",
    "        summary_prompt = (\n",
    "            f\"{docstring_half}<|endofsummary|>\"\n",
    "        )\n",
    "        input_text = f\"{code_prompt}{summary_prompt}\"\n",
    "        label_text = f\"{code_prompt}{summary_prompt}\"\n",
    "\n",
    "        inputs.append(input_text)\n",
    "        labels.append(label_text)\n",
    "        input_strings.append(code_prompt_suffixed)\n",
    "\n",
    "    max_length = 1024  # Truncate/pad sequences to this length\n",
    "\n",
    "    # Tokenize inputs and targets\n",
    "    tokenized_inputs = tokenizer(\n",
    "        inputs, truncation=True, padding=\"max_length\", max_length=max_length, return_tensors=\"pt\"\n",
    "    )\n",
    "    \n",
    "    tokenized_labels = tokenizer(\n",
    "        labels, truncation=True, padding=\"max_length\", max_length=max_length, return_tensors=\"pt\"\n",
    "    )\n",
    "    \n",
    "    # Align labels with tokenized target inputs\n",
    "    labels = tokenized_labels[\"input_ids\"].clone()\n",
    "    # labels[labels == tokenizer.pad_token_id] = -100  # Replace padding token IDs with -100 for loss computation\n",
    "    # output_ids = tokenized_labels[\"input_ids\"].clone()\n",
    "    # shifted_input_ids = output_ids.new_zeros(output_ids.shape)\n",
    "    # shifted_input_ids[:, :-1] = output_ids[:, 1:].clone()   # del CLS token\n",
    "    # shifted_input_ids[:, -1] = tokenizer.pad_token_id   # append [PAD] token\n",
    "    # labels = shifted_input_ids\n",
    "\n",
    "    # We have to make sure that the PAD token is ignored\n",
    "    labels = [\n",
    "        [-100 if mask == 0 else token for mask, token in mask_and_tokens] for mask_and_tokens in [zip(masks, labels) for masks, labels in zip(tokenized_labels.attention_mask, labels)]\n",
    "    ]\n",
    "\n",
    "\n",
    "    return {\n",
    "        \"input_ids\": tokenized_inputs[\"input_ids\"],\n",
    "        \"attention_mask\": tokenized_inputs[\"attention_mask\"],\n",
    "        \"labels\": labels,\n",
    "        \"input_strings\": input_strings,\n",
    "    }\n",
    "\n",
    "# Load the datasets\n",
    "tokenized_train_dataset = train_hf_dataset.map(preprocess_function, batched=True, batch_size=4)\n",
    "tokenized_validation_dataset = validation_hf_dataset.map(preprocess_function, batched=True, batch_size=4)\n",
    "tokenized_test_dataset = test_hf_dataset.map(preprocess_function, batched=True, batch_size=4)\n",
    "print(tokenized_train_dataset)\n",
    "print(tokenized_validation_dataset)\n",
    "print(tokenized_test_dataset)"
   ]
  },
  {
   "cell_type": "code",
   "execution_count": 12,
   "id": "a8c64031-14c3-4fd4-8412-64e1f910ec56",
   "metadata": {
    "tags": []
   },
   "outputs": [
    {
     "data": {
      "text/plain": [
       "'public void translate(TranslationService translationService) {\\n    if (translationService == null) {\\n      description.setValue(descriptionKey.getValue());\\n      return;\\n    }\\n\\n    if (!Strings.isNullOrEmpty(descriptionKey.get())) {\\n      description.setValue(translationService.translate(descriptionKey.get()));\\n    }\\n  } SUMMARY: This internal method is used as a callback for when the translation\\nservice or its locale changes. Also applies the translation to all\\ncontained sections.\\n\\n@see com.dlsc.formsfx.model.structure.Group ::translate'"
      ]
     },
     "execution_count": 12,
     "metadata": {},
     "output_type": "execute_result"
    }
   ],
   "source": [
    "tokenizer.decode(tokenized_train_dataset[\"input_ids\"][1][0:], skip_special_tokens=True)"
   ]
  },
  {
   "cell_type": "code",
   "execution_count": 13,
   "id": "8509bd64-8bc8-41a6-a834-8de76707ece2",
   "metadata": {
    "tags": []
   },
   "outputs": [
    {
     "data": {
      "text/plain": [
       "'<|endoftext|> <|startofcode|> public void translate(TranslationService translationService) {\\n    if (translationService == null) {\\n      description.setValue(descriptionKey.getValue());\\n      return;\\n    }\\n\\n    if (!Strings.isNullOrEmpty(descriptionKey.get())) {\\n      description.setValue(translationService.translate(descriptionKey.get()));\\n    }\\n  } <|endofcode|> <|startofsummary|>  SUMMARY: This internal method is used as a callback for when the translation\\nservice or its locale changes. Also applies the translation to all\\ncontained sections.\\n\\n@see com.dlsc.formsfx.model.structure.Group ::translate <|endofsummary|> <|endoftext|>'"
      ]
     },
     "execution_count": 13,
     "metadata": {},
     "output_type": "execute_result"
    }
   ],
   "source": [
    "tokenizer.decode(tokenized_train_dataset[\"labels\"][1][:164], skip_special_tokens=False)"
   ]
  },
  {
   "cell_type": "code",
   "execution_count": 4,
   "id": "7930c7d0-11c9-4fda-822e-493a0855bf54",
   "metadata": {
    "tags": []
   },
   "outputs": [
    {
     "data": {
      "text/plain": [
       "Embedding(50261, 768)"
      ]
     },
     "execution_count": 4,
     "metadata": {},
     "output_type": "execute_result"
    }
   ],
   "source": [
    "# Load pre-trained model\n",
    "configuration = GPT2Config()\n",
    "model = GPT2LMHeadModel(configuration).from_pretrained(\"gpt2\")\n",
    "model.config.pad_token_id = tokenizer.eos_token_id\n",
    "model.config.eos_token_id = tokenizer.eos_token_id\n",
    "model.config.decoder_start_token_id = tokenizer.bos_token_id\n",
    "\n",
    "model.config.no_repeat_ngram_size = 2\n",
    "model.num_beams = 3\n",
    "model.config.max_length = 25\n",
    "model.config.min_length = 12\n",
    "model.early_stopping = True\n",
    "\n",
    "model.resize_token_embeddings(len(tokenizer))"
   ]
  },
  {
   "cell_type": "code",
   "execution_count": 10,
   "id": "122c6d30-fcb1-4f3c-93ff-77b3a07eddb6",
   "metadata": {
    "tags": []
   },
   "outputs": [],
   "source": [
    "# Load pre-trained model\n",
    "# configuration = GPT2Config()\n",
    "# base_model = \"gpt2\"\n",
    "# adapter_model = \"lora-gpt-c2s/model\"\n",
    "\n",
    "# model = GPT2LMHeadModel(configuration).from_pretrained(\"gpt2\")\n",
    "# model.config.pad_token_id = model.config.eos_token_id\n",
    "# model.resize_token_embeddings(len(tokenizer))\n",
    "# model = PeftModel.from_pretrained(model, adapter_model)"
   ]
  },
  {
   "cell_type": "code",
   "execution_count": 5,
   "id": "ff06c7b4-dba4-4f0f-991c-aced400f9fdb",
   "metadata": {
    "tags": []
   },
   "outputs": [
    {
     "name": "stdout",
     "output_type": "stream",
     "text": [
      "trainable params: 75,497,472 || all params: 199,940,352 || trainable%: 37.7600\n"
     ]
    }
   ],
   "source": [
    "# Config LoRA specifications\n",
    "lora_config = LoraConfig(\n",
    "    # r=4608,  # lower the rank\n",
    "    r=512,  # lower the rank\n",
    "    lora_alpha=32,\n",
    "    # target_modules=[\"q\", \"v\"],  # apply LoRA to q and v of attention modules\n",
    "    # target_modules=[\"c_attn\", \"attn.c_attn\"],  # target query, key, and value together\n",
    "    # target_modules=[\"query\", \"value\"],  # correct module names for BERT\n",
    "    target_modules = [\n",
    "                        \"c_attn\",\n",
    "                        \"attn.c_attn\",\n",
    "                        \"attn.q_proj\",\n",
    "                        \"attn.k_proj\",\n",
    "                        \"attn.v_proj\",\n",
    "                        \"attn.c_proj\",\n",
    "                        \"mlp.c_fc\",\n",
    "                        \"mlp.c_proj\",\n",
    "                     ],\n",
    "    lora_dropout=0.1,\n",
    "    bias=\"none\",\n",
    "    task_type=\"CAUSAL_LM\",\n",
    "    # task_type=\"SEQ_2_SEQ_LM\",  # task type set to seq2seq generation\n",
    "    # task_type=\"SEQ_CLS\",  # task type set to text classification\n",
    "    fan_in_fan_out=True,\n",
    ")\n",
    "\n",
    "# Convert the model to LoRA model\n",
    "model = get_peft_model(model, lora_config)\n",
    "\n",
    "# Check the number of trainable parameters (for LoRA)\n",
    "model.print_trainable_parameters()"
   ]
  },
  {
   "cell_type": "code",
   "execution_count": 6,
   "id": "697b119a-76bc-4b06-85be-d9b5c349293e",
   "metadata": {
    "tags": []
   },
   "outputs": [
    {
     "data": {
      "text/html": [
       "\n",
       "    <div>\n",
       "      \n",
       "      <progress value='3000' max='3000' style='width:300px; height:20px; vertical-align: middle;'></progress>\n",
       "      [3000/3000 19:26, Epoch 6/6]\n",
       "    </div>\n",
       "    <table border=\"1\" class=\"dataframe\">\n",
       "  <thead>\n",
       " <tr style=\"text-align: left;\">\n",
       "      <th>Step</th>\n",
       "      <th>Training Loss</th>\n",
       "    </tr>\n",
       "  </thead>\n",
       "  <tbody>\n",
       "    <tr>\n",
       "      <td>100</td>\n",
       "      <td>7.614600</td>\n",
       "    </tr>\n",
       "    <tr>\n",
       "      <td>200</td>\n",
       "      <td>2.016300</td>\n",
       "    </tr>\n",
       "    <tr>\n",
       "      <td>300</td>\n",
       "      <td>1.901000</td>\n",
       "    </tr>\n",
       "    <tr>\n",
       "      <td>400</td>\n",
       "      <td>1.872300</td>\n",
       "    </tr>\n",
       "    <tr>\n",
       "      <td>500</td>\n",
       "      <td>1.797800</td>\n",
       "    </tr>\n",
       "    <tr>\n",
       "      <td>600</td>\n",
       "      <td>1.751100</td>\n",
       "    </tr>\n",
       "    <tr>\n",
       "      <td>700</td>\n",
       "      <td>1.692000</td>\n",
       "    </tr>\n",
       "    <tr>\n",
       "      <td>800</td>\n",
       "      <td>1.761100</td>\n",
       "    </tr>\n",
       "    <tr>\n",
       "      <td>900</td>\n",
       "      <td>1.655000</td>\n",
       "    </tr>\n",
       "    <tr>\n",
       "      <td>1000</td>\n",
       "      <td>1.685900</td>\n",
       "    </tr>\n",
       "    <tr>\n",
       "      <td>1100</td>\n",
       "      <td>1.625800</td>\n",
       "    </tr>\n",
       "    <tr>\n",
       "      <td>1200</td>\n",
       "      <td>1.640300</td>\n",
       "    </tr>\n",
       "    <tr>\n",
       "      <td>1300</td>\n",
       "      <td>1.577700</td>\n",
       "    </tr>\n",
       "    <tr>\n",
       "      <td>1400</td>\n",
       "      <td>1.650900</td>\n",
       "    </tr>\n",
       "    <tr>\n",
       "      <td>1500</td>\n",
       "      <td>1.619200</td>\n",
       "    </tr>\n",
       "    <tr>\n",
       "      <td>1600</td>\n",
       "      <td>1.602600</td>\n",
       "    </tr>\n",
       "    <tr>\n",
       "      <td>1700</td>\n",
       "      <td>1.561500</td>\n",
       "    </tr>\n",
       "    <tr>\n",
       "      <td>1800</td>\n",
       "      <td>1.576800</td>\n",
       "    </tr>\n",
       "    <tr>\n",
       "      <td>1900</td>\n",
       "      <td>1.597200</td>\n",
       "    </tr>\n",
       "    <tr>\n",
       "      <td>2000</td>\n",
       "      <td>1.553500</td>\n",
       "    </tr>\n",
       "    <tr>\n",
       "      <td>2100</td>\n",
       "      <td>1.537800</td>\n",
       "    </tr>\n",
       "    <tr>\n",
       "      <td>2200</td>\n",
       "      <td>1.571500</td>\n",
       "    </tr>\n",
       "    <tr>\n",
       "      <td>2300</td>\n",
       "      <td>1.525700</td>\n",
       "    </tr>\n",
       "    <tr>\n",
       "      <td>2400</td>\n",
       "      <td>1.535400</td>\n",
       "    </tr>\n",
       "    <tr>\n",
       "      <td>2500</td>\n",
       "      <td>1.495800</td>\n",
       "    </tr>\n",
       "    <tr>\n",
       "      <td>2600</td>\n",
       "      <td>1.527200</td>\n",
       "    </tr>\n",
       "    <tr>\n",
       "      <td>2700</td>\n",
       "      <td>1.481300</td>\n",
       "    </tr>\n",
       "    <tr>\n",
       "      <td>2800</td>\n",
       "      <td>1.520000</td>\n",
       "    </tr>\n",
       "    <tr>\n",
       "      <td>2900</td>\n",
       "      <td>1.494000</td>\n",
       "    </tr>\n",
       "    <tr>\n",
       "      <td>3000</td>\n",
       "      <td>1.499200</td>\n",
       "    </tr>\n",
       "  </tbody>\n",
       "</table><p>"
      ],
      "text/plain": [
       "<IPython.core.display.HTML object>"
      ]
     },
     "metadata": {},
     "output_type": "display_data"
    },
    {
     "name": "stdout",
     "output_type": "stream",
     "text": [
      "LoRA fine-tuning done, model saved!\n"
     ]
    }
   ],
   "source": [
    "accelerator = Accelerator()\n",
    "\n",
    "# Define accelerator_config as a dictionary\n",
    "accelerator_config = {\n",
    "    \"split_batches\": True,\n",
    "    \"even_batches\": True,\n",
    "    \"use_seedable_sampler\": True\n",
    "}\n",
    "\n",
    "# model.resize_token_embeddings(len(tokenizer))\n",
    "\n",
    "# Adjust the batch size\n",
    "batch_size = 4\n",
    "training_args = Seq2SeqTrainingArguments(\n",
    "    output_dir=\"./results/lora-gpt-c2s\",\n",
    "    # eval_strategy=\"epoch\",\n",
    "    learning_rate=5e-4,\n",
    "    per_device_train_batch_size=batch_size,\n",
    "    per_device_eval_batch_size=batch_size,\n",
    "    metric_for_best_model=\"bleu\",\n",
    "    weight_decay=0.01,\n",
    "    num_train_epochs=6,\n",
    "    # save_strategy=\"epoch\",\n",
    "    save_strategy=\"no\",\n",
    "    logging_strategy=\"steps\",\n",
    "    logging_steps=100,\n",
    "    report_to=\"mlflow\",  # disable wandb etc.\n",
    "    fp16=True,  # mixed precision training\n",
    "    optim=\"adamw_torch\",  # use torch original optimizer\n",
    "    # accelerator_config=accelerator_config,\n",
    ")\n",
    "\n",
    "def compute_metrics(eval_pred):\n",
    "    predictions, labels = eval_pred\n",
    "\n",
    "    # Extract logits from tuple and process predictions\n",
    "    predictions = predictions[0]  # Extract the array\n",
    "    predictions = np.argmax(predictions, axis=-1)  # Convert logits to token IDs\n",
    "    predictions = predictions.tolist()  # Convert to a list\n",
    "\n",
    "    # Decode predictions and labels\n",
    "    decoded_preds = tokenizer.batch_decode(predictions, skip_special_tokens=True)\n",
    "    decoded_labels = tokenizer.batch_decode(labels, skip_special_tokens=True)\n",
    "    \n",
    "    # Format labels for BLEU (expects list of lists for references)\n",
    "    decoded_labels = [[label] for label in decoded_labels]\n",
    "\n",
    "    # Compute BLEU score using sacrebleu\n",
    "    bleu = corpus_bleu(decoded_preds, decoded_labels)\n",
    "\n",
    "    return {\"bleu\": bleu.score}\n",
    "\n",
    "# Define Trainer\n",
    "trainer = accelerator.prepare(\n",
    "    Seq2SeqTrainer(\n",
    "    model=model,\n",
    "    args=training_args,\n",
    "    compute_metrics=compute_metrics,\n",
    "    train_dataset=tokenized_train_dataset,\n",
    "    # eval_dataset=tokenized_validation_dataset,\n",
    "                  )\n",
    "                             )\n",
    "\n",
    "# Start Training\n",
    "trainer.train()\n",
    "\n",
    "# Save the model after LoRA fine-tuing\n",
    "model.save_pretrained(\"./lora-gpt-c2s/model\", save_embedding_layers=True)\n",
    "tokenizer.save_pretrained(\"./lora-gpt-c2s/tokenizer\")\n",
    "\n",
    "print(\"LoRA fine-tuning done, model saved!\")\n",
    "\n",
    "# test_results = []\n",
    "# chunk_size = 2\n",
    "# for i in tqdm(range(0, len(tokenized_test_dataset), chunk_size)):\n",
    "#     small_test_dataset = tokenized_test_dataset.select(range(i, min(i + chunk_size, len(tokenized_test_dataset))))\n",
    "#     with torch.no_grad():\n",
    "#         predictions, labels, metrics = trainer.predict(small_test_dataset)\n",
    "#         test_results.append(metrics)\n",
    "#     torch.cuda.empty_cache()"
   ]
  },
  {
   "cell_type": "code",
   "execution_count": 13,
   "id": "bc96ae0e-5875-468e-b653-b1eb0ebc0c63",
   "metadata": {
    "tags": []
   },
   "outputs": [
    {
     "name": "stdout",
     "output_type": "stream",
     "text": [
      "mean: 12.353\n",
      "stdev: 8.579393742974908\n",
      "variance: 73.60599699699699\n"
     ]
    }
   ],
   "source": [
    "import statistics \n",
    "test_lengths = [len(i) for i in tokenized_test_dataset['docstring_tokens']]\n",
    "print(f'mean: {statistics.mean(test_lengths)}')\n",
    "print(f'stdev: {statistics.stdev(test_lengths)}')\n",
    "print(f'variance: {statistics.variance(test_lengths)}')"
   ]
  },
  {
   "cell_type": "code",
   "execution_count": null,
   "id": "d6b2ad4c-6fe7-43c1-81e7-35079c8a2a07",
   "metadata": {},
   "outputs": [],
   "source": [
    "tokenizer = AutoTokenizer.from_pretrained(\"lora-gpt-c2s/tokenizer\")\n",
    "\n",
    "base_model = \"gpt2\"\n",
    "adapter_model = \"lora-gpt-c2s/model\"\n",
    "configuration = GPT2Config()\n",
    "model = GPT2LMHeadModel(configuration).from_pretrained(base_model)\n",
    "model.resize_token_embeddings(len(tokenizer))"
   ]
  },
  {
   "cell_type": "code",
   "execution_count": 9,
   "id": "6c5eb3f2-b332-4857-996a-836829a7d747",
   "metadata": {},
   "outputs": [
    {
     "name": "stderr",
     "output_type": "stream",
     "text": [
      "The model 'PeftModelForCausalLM' is not supported for text-generation. Supported models are ['BartForCausalLM', 'BertLMHeadModel', 'BertGenerationDecoder', 'BigBirdForCausalLM', 'BigBirdPegasusForCausalLM', 'BioGptForCausalLM', 'BlenderbotForCausalLM', 'BlenderbotSmallForCausalLM', 'BloomForCausalLM', 'CamembertForCausalLM', 'LlamaForCausalLM', 'CodeGenForCausalLM', 'CohereForCausalLM', 'CpmAntForCausalLM', 'CTRLLMHeadModel', 'Data2VecTextForCausalLM', 'DbrxForCausalLM', 'ElectraForCausalLM', 'ErnieForCausalLM', 'FalconForCausalLM', 'FalconMambaForCausalLM', 'FuyuForCausalLM', 'GemmaForCausalLM', 'Gemma2ForCausalLM', 'GitForCausalLM', 'GPT2LMHeadModel', 'GPT2LMHeadModel', 'GPTBigCodeForCausalLM', 'GPTNeoForCausalLM', 'GPTNeoXForCausalLM', 'GPTNeoXJapaneseForCausalLM', 'GPTJForCausalLM', 'GraniteForCausalLM', 'GraniteMoeForCausalLM', 'JambaForCausalLM', 'JetMoeForCausalLM', 'LlamaForCausalLM', 'MambaForCausalLM', 'Mamba2ForCausalLM', 'MarianForCausalLM', 'MBartForCausalLM', 'MegaForCausalLM', 'MegatronBertForCausalLM', 'MistralForCausalLM', 'MixtralForCausalLM', 'MllamaForCausalLM', 'MptForCausalLM', 'MusicgenForCausalLM', 'MusicgenMelodyForCausalLM', 'MvpForCausalLM', 'NemotronForCausalLM', 'OlmoForCausalLM', 'OlmoeForCausalLM', 'OpenLlamaForCausalLM', 'OpenAIGPTLMHeadModel', 'OPTForCausalLM', 'PegasusForCausalLM', 'PersimmonForCausalLM', 'PhiForCausalLM', 'Phi3ForCausalLM', 'PLBartForCausalLM', 'ProphetNetForCausalLM', 'QDQBertLMHeadModel', 'Qwen2ForCausalLM', 'Qwen2MoeForCausalLM', 'RecurrentGemmaForCausalLM', 'ReformerModelWithLMHead', 'RemBertForCausalLM', 'RobertaForCausalLM', 'RobertaPreLayerNormForCausalLM', 'RoCBertForCausalLM', 'RoFormerForCausalLM', 'RwkvForCausalLM', 'Speech2Text2ForCausalLM', 'StableLmForCausalLM', 'Starcoder2ForCausalLM', 'TransfoXLLMHeadModel', 'TrOCRForCausalLM', 'WhisperForCausalLM', 'XGLMForCausalLM', 'XLMWithLMHeadModel', 'XLMProphetNetForCausalLM', 'XLMRobertaForCausalLM', 'XLMRobertaXLForCausalLM', 'XLNetLMHeadModel', 'XmodForCausalLM'].\n"
     ]
    },
    {
     "data": {
      "application/vnd.jupyter.widget-view+json": {
       "model_id": "a47c456b7f244c0c89456c13ab4e7af5",
       "version_major": 2,
       "version_minor": 0
      },
      "text/plain": [
       "  0%|          | 0/1000 [00:00<?, ?it/s]"
      ]
     },
     "metadata": {},
     "output_type": "display_data"
    },
    {
     "name": "stdout",
     "output_type": "stream",
     "text": [
      "GPT2: ['@param fragmentName\\n@return\\nThe fragment name of the fragment.']\n",
      "\n",
      "\n",
      "Label: [['Import Pipeline Fragment Configuration & Rules\\n\\n@param fragmentId Fragment  Id\\n@return fragmentEnvelope']]\n",
      "******************************\n",
      "GPT2: ['\\nThis method is used to check if the request is valid.\\n\\n@return']\n",
      "\n",
      "\n",
      "Label: [['deserialize request command\\n\\n@return true if deserialize success; false if exception catched']]\n",
      "******************************\n",
      "GPT2: ['@param to\\nThe address of the email address\\n@return']\n",
      "\n",
      "\n",
      "Label: [['Appends TO address by personal name and email address.\\n\\n@param personalName personal name.\\n@param to           email address.\\n@return this\\n@see #to(EmailAddress)']]\n",
      "******************************\n"
     ]
    }
   ],
   "source": [
    "device = torch.device(\"cuda\" if torch.cuda.is_available() else \"cpu\")\n",
    "\n",
    "summarization_pipeline = pipeline(\n",
    "                                  \"text-generation\",\n",
    "                                  do_sample=True,\n",
    "                                  model=model,\n",
    "                                  tokenizer=tokenizer,\n",
    "                                  max_new_tokens=25,\n",
    "                                  min_new_tokens=9,\n",
    "                                  truncation=True,\n",
    "                                  device=device,\n",
    "                                  pad_token_id=tokenizer.eos_token_id,\n",
    "                                  return_full_text=False,\n",
    "                                  temperature=0.3,\n",
    "                                  num_beams=4,\n",
    "                                  # early_stopping=True,\n",
    "                                  no_repeat_ngram_size=2,\n",
    "                                  top_k=50,\n",
    "                                  top_p=0.9,\n",
    "                                 )\n",
    "# pipeline.model = PeftModel.from_pretrained(model, adapter_model)\n",
    "# pipeline.model.resize_token_embeddings(len(tokenizer))\n",
    "                                            \n",
    "# code_snippet = \"public static void main(String[] args){System.out.println('Hello, world.');}\"\n",
    "# code_snippet = \"private void setNodekeyInJsonResponse(String service) throws Exception { String filename = this.baseDirectory + service + '.json'; Scanner s = new Scanner(new File(filename)); PrintWriter fw = new PrintWriter(new File(filename + '.new')); while (s.hasNextLine()) { fw.println(s.nextLine().replaceAll('NODEKEY', this.key)); } s.close(); fw.close(); (new File(filename + '.new')).renameTo(new File(filename)); }\"\n",
    "# result = summarization_pipeline(f\"Please write a summary for the following Java code snippet: {code_snippet}. A summary of the above Java code snippet is that:\")\n",
    "# result = summarization_pipeline(\"A summary of the above code snippet is that:\")\n",
    "# output = summarization_pipeline(f\"{code_snippet} SUMMARY: \")\n",
    "# generated_text = output[0]['generated_text']\n",
    "# print(generated_text)\n",
    "\n",
    "google_bleu = evaluate.load(\"google_bleu\")\n",
    "google_bleu_scores = []\n",
    "flag = 3\n",
    "for i, v in enumerate(tqdm(summarization_pipeline(KeyDataset(tokenized_test_dataset, \"input_strings\")))):\n",
    "    if flag:\n",
    "        print(f\"GPT2: {[v[0]['generated_text']]}\")\n",
    "        print(\"\\n\")\n",
    "        print(f'Label: {[[tokenized_test_dataset[\"docstring\"][i]]]}')\n",
    "        print(\"*\" * 30)\n",
    "        flag -= 1\n",
    "    google_bleu_scores.append(\n",
    "                              google_bleu.compute(\n",
    "                                                  predictions=[v[0]['generated_text']], \n",
    "                                                  references=[[tokenized_test_dataset[\"docstring\"][i]]]\n",
    "                                                  )['google_bleu']\n",
    "                             )"
   ]
  },
  {
   "cell_type": "code",
   "execution_count": 10,
   "id": "91be342b-971b-4a80-8331-e2bcbf7f1c90",
   "metadata": {
    "tags": []
   },
   "outputs": [
    {
     "name": "stdout",
     "output_type": "stream",
     "text": [
      "Average BLEU Score: 6.008568243719998\n"
     ]
    }
   ],
   "source": [
    "total_bleu = sum(google_bleu_scores)\n",
    "average_bleu = total_bleu / len(google_bleu_scores)\n",
    "\n",
    "print(f\"Average BLEU Score: {average_bleu * 100}\")"
   ]
  }
 ],
 "metadata": {
  "environment": {
   "kernel": "conda-env-pytorch-pytorch",
   "name": "workbench-notebooks.m126",
   "type": "gcloud",
   "uri": "us-docker.pkg.dev/deeplearning-platform-release/gcr.io/workbench-notebooks:m126"
  },
  "kernelspec": {
   "display_name": "PyTorch 1-13",
   "language": "python",
   "name": "conda-env-pytorch-pytorch"
  },
  "language_info": {
   "codemirror_mode": {
    "name": "ipython",
    "version": 3
   },
   "file_extension": ".py",
   "mimetype": "text/x-python",
   "name": "python",
   "nbconvert_exporter": "python",
   "pygments_lexer": "ipython3",
   "version": "3.10.15"
  }
 },
 "nbformat": 4,
 "nbformat_minor": 5
}
