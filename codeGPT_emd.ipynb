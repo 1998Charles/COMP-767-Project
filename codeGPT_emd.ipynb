{
 "cells": [
  {
   "cell_type": "markdown",
   "id": "4df4bdf3-d5c1-4cc1-8fc1-afcbe89ac1ab",
   "metadata": {
    "tags": []
   },
   "source": [
    "# Check GPUs and Install libraries"
   ]
  },
  {
   "cell_type": "code",
   "execution_count": 1,
   "id": "1bc8ec6e-ee1a-48d9-81e0-10668a1ba35c",
   "metadata": {
    "tags": []
   },
   "outputs": [
    {
     "name": "stdout",
     "output_type": "stream",
     "text": [
      "GPU 0: NVIDIA L4 (UUID: GPU-75284cda-bad1-fb4b-9e7a-bbfd92ac0a60)\n",
      "\n"
     ]
    }
   ],
   "source": [
    "#@title 1.1 Check GPU Status\n",
    "import subprocess\n",
    "simple_nvidia_smi_display = True#@param {type:\"boolean\"}\n",
    "if simple_nvidia_smi_display:\n",
    "  #!nvidia-smi\n",
    "  nvidiasmi_output = subprocess.run(['nvidia-smi', '-L'], stdout=subprocess.PIPE).stdout.decode('utf-8')\n",
    "  print(nvidiasmi_output)\n",
    "else:\n",
    "  #!nvidia-smi -i 0 -e 0\n",
    "  nvidiasmi_output = subprocess.run(['nvidia-smi'], stdout=subprocess.PIPE).stdout.decode('utf-8')\n",
    "  print(nvidiasmi_output)\n",
    "  nvidiasmi_ecc_note = subprocess.run(['nvidia-smi', '-i', '0', '-e', '0'], stdout=subprocess.PIPE).stdout.decode('utf-8')\n",
    "  print(nvidiasmi_ecc_note)"
   ]
  },
  {
   "cell_type": "markdown",
   "id": "66a4a999-c251-457e-83fb-7cad11f24b79",
   "metadata": {
    "tags": []
   },
   "source": [
    "# Imports"
   ]
  },
  {
   "cell_type": "code",
   "execution_count": 1,
   "id": "7499be5d-9144-4d1e-af98-df9b11d265ca",
   "metadata": {
    "tags": []
   },
   "outputs": [],
   "source": [
    "import pandas as pd\n",
    "from torch.utils.data import Dataset, DataLoader\n",
    "import torch\n",
    "from datasets import Dataset as HFDataset\n",
    "\n",
    "from peft import LoraConfig, get_peft_model\n",
    "from datasets import load_dataset\n",
    "\n",
    "from transformers import (\n",
    "    pipeline,\n",
    "    AutoTokenizer,\n",
    "    AutoModelForSequenceClassification,\n",
    "    BertConfig,\n",
    "    BertModel,\n",
    "    Trainer,\n",
    "    TrainingArguments,\n",
    "    T5Tokenizer,\n",
    "    T5ForConditionalGeneration,\n",
    "    AutoTokenizer, \n",
    "    AutoModelForCausalLM,\n",
    "    GPT2Model,\n",
    "    GPT2Config,\n",
    "    GPT2ForSequenceClassification,\n",
    "    GPT2Tokenizer,\n",
    ")\n",
    "from sklearn.metrics import accuracy_score, precision_score, recall_score, f1_score\n",
    "from sklearn.model_selection import train_test_split\n",
    "import matplotlib.pyplot as plt"
   ]
  },
  {
   "cell_type": "markdown",
   "id": "044d5423-5bff-4ee9-afba-bf9960e5bbb2",
   "metadata": {
    "tags": []
   },
   "source": [
    "# Define custom dataset class"
   ]
  },
  {
   "cell_type": "code",
   "execution_count": 2,
   "id": "342bdadc-03d4-4904-b5c5-3f73f70a1d23",
   "metadata": {},
   "outputs": [],
   "source": [
    "# Define custom dataset class\n",
    "class MyDataset(Dataset):\n",
    "    def __init__(self, codebase_path, pair_path):\n",
    "        # Load data\n",
    "        self.codebase = pd.read_csv(codebase_path)\n",
    "        self.pair_data = pd.read_csv(pair_path)\n",
    "\n",
    "        # Create a dictionary to map code_id to Java code for fast lookup\n",
    "        self.code_dict = dict(zip(self.codebase['id'], self.codebase['code']))\n",
    "\n",
    "    def __len__(self):\n",
    "        return len(self.pair_data)\n",
    "\n",
    "    def __getitem__(self, idx):\n",
    "        # Get pair data\n",
    "        row = self.pair_data.iloc[idx]\n",
    "        code_id_1 = row['code_id_1']\n",
    "        code_id_2 = row['code_id_2']\n",
    "        label = row['label']\n",
    "\n",
    "        # Retrieve the Java methods using code_id\n",
    "        code1 = self.code_dict[code_id_1]\n",
    "        code2 = self.code_dict[code_id_2]\n",
    "\n",
    "        # Return input and label\n",
    "        return {\n",
    "            'code1': code1,\n",
    "            'code2': code2,\n",
    "            'label': label\n",
    "        }"
   ]
  },
  {
   "cell_type": "markdown",
   "id": "ef111539-90dc-4c1f-91b1-acca869cf465",
   "metadata": {},
   "source": [
    "# Data pre-processing"
   ]
  },
  {
   "cell_type": "code",
   "execution_count": 3,
   "id": "d38b45c0-1934-4813-8fe8-b0df0fe8e4c4",
   "metadata": {
    "tags": []
   },
   "outputs": [],
   "source": [
    "# File paths\n",
    "codebase_file = 'MutantBench/codebase.csv'\n",
    "train_file = 'MutantBench/train.csv'\n",
    "test_file = 'MutantBench/test.csv'\n",
    "\n",
    "raw_train_dataset = MyDataset(\n",
    "        codebase_path=codebase_file,\n",
    "        pair_path=train_file,\n",
    "      )\n",
    "\n",
    "raw_test_dataset = MyDataset(\n",
    "        codebase_path=codebase_file,\n",
    "        pair_path=test_file,\n",
    "      )\n",
    "\n",
    "# Convert MyDataset to Hugging Face Dataset\n",
    "train_data_dict = [{'code1': item['code1'], 'code2': item['code2'], 'label': item['label']} for item in raw_train_dataset]\n",
    "test_data_dict = [{'code1': item['code1'], 'code2': item['code2'], 'label': item['label']} for item in raw_test_dataset]\n",
    "train_hf_dataset = HFDataset.from_list(train_data_dict)\n",
    "test_hf_dataset = HFDataset.from_list(test_data_dict)"
   ]
  },
  {
   "cell_type": "code",
   "execution_count": 4,
   "id": "f126c515-1acc-47b3-bdd3-4407e6500b07",
   "metadata": {
    "tags": []
   },
   "outputs": [
    {
     "name": "stdout",
     "output_type": "stream",
     "text": [
      "Dataset({\n",
      "    features: ['code1', 'code2', 'label', '__index_level_0__'],\n",
      "    num_rows: 825\n",
      "})\n",
      "Dataset({\n",
      "    features: ['code1', 'code2', 'label', '__index_level_0__'],\n",
      "    num_rows: 825\n",
      "})\n"
     ]
    }
   ],
   "source": [
    "# Convert to Pandas DataFrame for easier manipulation\n",
    "df = test_hf_dataset.to_pandas()\n",
    "\n",
    "# Specify the column for stratification\n",
    "label_column = \"label\"  # Replace with the correct column name for stratification\n",
    "if label_column not in df.columns:\n",
    "    raise ValueError(f\"Column '{label_column}' not found in the dataset.\")\n",
    "\n",
    "# Stratified sampling using sklearn\n",
    "# Adjust the test_size to control the size of the sub-dataset\n",
    "\n",
    "sub_validation, sub_test = train_test_split(df, stratify=df[label_column], test_size=0.5, random_state=42) # test\n",
    "\n",
    "# Convert back to a Hugging Face Dataset (optional)\n",
    "sub_validation_dataset = HFDataset.from_pandas(sub_validation)\n",
    "sub_test_dataset = HFDataset.from_pandas(sub_test)\n",
    "\n",
    "# Output the sub-dataset\n",
    "print(sub_validation_dataset)\n",
    "print(sub_test_dataset)"
   ]
  },
  {
   "cell_type": "code",
   "execution_count": 5,
   "id": "c6464523-a0e6-45b9-b668-e4d5ad1f525e",
   "metadata": {
    "tags": []
   },
   "outputs": [
    {
     "data": {
      "application/vnd.jupyter.widget-view+json": {
       "model_id": "8344b07172974043ac75488392368ef3",
       "version_major": 2,
       "version_minor": 0
      },
      "text/plain": [
       "Saving the dataset (0/1 shards):   0%|          | 0/1652 [00:00<?, ? examples/s]"
      ]
     },
     "metadata": {},
     "output_type": "display_data"
    },
    {
     "data": {
      "application/vnd.jupyter.widget-view+json": {
       "model_id": "9e1a55217b2543dbaed670bba6f90f46",
       "version_major": 2,
       "version_minor": 0
      },
      "text/plain": [
       "Saving the dataset (0/1 shards):   0%|          | 0/825 [00:00<?, ? examples/s]"
      ]
     },
     "metadata": {},
     "output_type": "display_data"
    },
    {
     "data": {
      "application/vnd.jupyter.widget-view+json": {
       "model_id": "e2b9e9505ccb48ff92aabf5f1d07a56b",
       "version_major": 2,
       "version_minor": 0
      },
      "text/plain": [
       "Saving the dataset (0/1 shards):   0%|          | 0/825 [00:00<?, ? examples/s]"
      ]
     },
     "metadata": {},
     "output_type": "display_data"
    }
   ],
   "source": [
    "# train_hf_dataset.save_to_disk(\"SubMutantBench_train\")\n",
    "# sub_validation_dataset.save_to_disk(\"SubMutantBench_validation\")\n",
    "# sub_test_dataset.save_to_disk(\"SubMutantBench_test\")"
   ]
  },
  {
   "cell_type": "code",
   "execution_count": 2,
   "id": "9a8dc283-7759-4aa6-a4fb-040a0c5543c2",
   "metadata": {
    "tags": []
   },
   "outputs": [
    {
     "name": "stdout",
     "output_type": "stream",
     "text": [
      "Dataset({\n",
      "    features: ['code1', 'code2', 'label'],\n",
      "    num_rows: 1652\n",
      "})\n",
      "Dataset({\n",
      "    features: ['code1', 'code2', 'label', '__index_level_0__'],\n",
      "    num_rows: 825\n",
      "})\n",
      "Dataset({\n",
      "    features: ['code1', 'code2', 'label', '__index_level_0__'],\n",
      "    num_rows: 825\n",
      "})\n"
     ]
    }
   ],
   "source": [
    "train_hf_dataset = HFDataset.load_from_disk(\"SubMutantBench_train\")\n",
    "validation_hf_dataset = HFDataset.load_from_disk(\"SubMutantBench_validation\")\n",
    "test_hf_dataset = HFDataset.load_from_disk(\"SubMutantBench_test\")\n",
    "print(train_hf_dataset)\n",
    "print(validation_hf_dataset)\n",
    "print(test_hf_dataset)"
   ]
  },
  {
   "cell_type": "code",
   "execution_count": 3,
   "id": "53020ecb-f11c-465f-8da3-4edd43ebdeb7",
   "metadata": {
    "tags": []
   },
   "outputs": [
    {
     "data": {
      "application/vnd.jupyter.widget-view+json": {
       "model_id": "1a8470af189f48bfabd85d8185d3cb46",
       "version_major": 2,
       "version_minor": 0
      },
      "text/plain": [
       "Map:   0%|          | 0/1652 [00:00<?, ? examples/s]"
      ]
     },
     "metadata": {},
     "output_type": "display_data"
    },
    {
     "data": {
      "application/vnd.jupyter.widget-view+json": {
       "model_id": "d3cd9ab6ca504e2d9a94e0c1cf0a41cb",
       "version_major": 2,
       "version_minor": 0
      },
      "text/plain": [
       "Map:   0%|          | 0/825 [00:00<?, ? examples/s]"
      ]
     },
     "metadata": {},
     "output_type": "display_data"
    },
    {
     "data": {
      "application/vnd.jupyter.widget-view+json": {
       "model_id": "f54c6497d29e4df6a31910c0aed978ed",
       "version_major": 2,
       "version_minor": 0
      },
      "text/plain": [
       "Map:   0%|          | 0/825 [00:00<?, ? examples/s]"
      ]
     },
     "metadata": {},
     "output_type": "display_data"
    }
   ],
   "source": [
    "# Pre-process the original data\n",
    "def preprocess_function(examples):\n",
    "    inputs = [\"code_1: \" + examples[\"code1\"][i] + \" code_2: \" + examples[\"code2\"][i] for i in range(len(examples[\"code1\"]))]\n",
    "    targets = [i for i in examples[\"label\"]]\n",
    "    # targets = [str(i) for i in examples[\"label\"]]\n",
    "    \n",
    "    max_length = 512\n",
    "    return {\"input_ids\": tokenizer(inputs, truncation=True, padding=\"max_length\", max_length=max_length)[\"input_ids\"],\n",
    "            \"attention_mask\": tokenizer(inputs, truncation=True, padding=\"max_length\", max_length=max_length)[\"attention_mask\"],\n",
    "            \"labels\": torch.tensor(targets, dtype=torch.long),\n",
    "            # \"labels\": tokenizer(targets, truncation=True, padding=\"max_length\", max_length=256)[\"input_ids\"]\n",
    "        }\n",
    "\n",
    "configuration = GPT2Config()\n",
    "\n",
    "# Load the Tokenizer\n",
    "tokenizer = GPT2Tokenizer.from_pretrained(\"microsoft/CodeGPT-small-java-adaptedGPT2\")\n",
    "tokenizer.pad_token = tokenizer.eos_token  # Or assign a suitable token\n",
    "\n",
    "# Pre-process data\n",
    "tokenized_train_dataset = train_hf_dataset.map(preprocess_function, batched=True, batch_size=4)\n",
    "tokenized_validation_dataset = validation_hf_dataset.map(preprocess_function, batched=True, batch_size=4)\n",
    "tokenized_test_dataset = test_hf_dataset.map(preprocess_function, batched=True, batch_size=4)"
   ]
  },
  {
   "cell_type": "code",
   "execution_count": 4,
   "id": "5442dbb9-a707-4a86-ae79-c3c56f8ab06b",
   "metadata": {
    "tags": []
   },
   "outputs": [
    {
     "name": "stdout",
     "output_type": "stream",
     "text": [
      "Dataset({\n",
      "    features: ['code1', 'code2', 'label'],\n",
      "    num_rows: 1652\n",
      "})\n",
      "Dataset({\n",
      "    features: ['code1', 'code2', 'label', '__index_level_0__'],\n",
      "    num_rows: 825\n",
      "})\n",
      "Dataset({\n",
      "    features: ['code1', 'code2', 'label', '__index_level_0__'],\n",
      "    num_rows: 825\n",
      "})\n"
     ]
    }
   ],
   "source": [
    "print(train_hf_dataset)\n",
    "print(validation_hf_dataset)\n",
    "print(test_hf_dataset)"
   ]
  },
  {
   "cell_type": "code",
   "execution_count": 5,
   "id": "1f78a8c9-417c-429d-ab92-e2b1011970f3",
   "metadata": {
    "tags": []
   },
   "outputs": [
    {
     "name": "stderr",
     "output_type": "stream",
     "text": [
      "Token indices sequence length is longer than the specified maximum sequence length for this model (2630 > 1024). Running this sequence through the model will result in indexing errors\n"
     ]
    },
    {
     "name": "stdout",
     "output_type": "stream",
     "text": [
      "Total code snippets: 1652\n",
      "Average token length: 481.55\n",
      "Max token length: 2630\n",
      "Min token length: 21\n"
     ]
    },
    {
     "data": {
      "image/png": "[encoded data removed]",
      "text/plain": [
       "<Figure size 1000x600 with 1 Axes>"
      ]
     },
     "metadata": {},
     "output_type": "display_data"
    }
   ],
   "source": [
    "# Load your dataset\n",
    "def load_dataset(file_path):\n",
    "    \"\"\"\n",
    "    Load a dataset (CSV or JSON) into a Pandas DataFrame.\n",
    "    Modify this function to support other formats.\n",
    "    \"\"\"\n",
    "    if file_path.endswith(\".csv\"):\n",
    "        return pd.read_csv(file_path)\n",
    "    elif file_path.endswith(\".json\"):\n",
    "        return pd.read_json(file_path)\n",
    "    else:\n",
    "        raise ValueError(\"Unsupported file format. Use CSV or JSON.\")\n",
    "\n",
    "# Tokenize the code and calculate token lengths\n",
    "def analyze_token_distribution(dataset, code_column, tokenizer_name=\"gpt2\"):\n",
    "    \"\"\"\n",
    "    Analyze token distribution for a specified column containing code.\n",
    "    \n",
    "    Args:\n",
    "        dataset (pd.DataFrame): The dataset containing code.\n",
    "        code_column (str): The name of the column containing code snippets.\n",
    "        tokenizer_name (str): The name of the tokenizer (e.g., 'gpt2').\n",
    "    \n",
    "    Returns:\n",
    "        token_lengths (list): List of token lengths for each code snippet.\n",
    "    \"\"\"\n",
    "    tokenizer = AutoTokenizer.from_pretrained(tokenizer_name)\n",
    "    \n",
    "    token_lengths = []\n",
    "    for code_snippet in dataset[code_column]:\n",
    "        if isinstance(code_snippet, str):  # Ensure the snippet is a string\n",
    "            tokens = tokenizer.encode(code_snippet, truncation=False, add_special_tokens=False)\n",
    "            token_lengths.append(len(tokens))\n",
    "    \n",
    "    return token_lengths\n",
    "\n",
    "# Visualize token length distribution\n",
    "def plot_token_distribution(token_lengths):\n",
    "    \"\"\"\n",
    "    Plot the distribution of token lengths.\n",
    "    \n",
    "    Args:\n",
    "        token_lengths (list): List of token lengths.\n",
    "    \"\"\"\n",
    "    plt.figure(figsize=(10, 6))\n",
    "    plt.hist(token_lengths, bins=50, alpha=0.75, edgecolor='black')\n",
    "    plt.title(\"Token Length Distribution\", fontsize=16)\n",
    "    plt.xlabel(\"Token Length\", fontsize=14)\n",
    "    plt.ylabel(\"Frequency\", fontsize=14)\n",
    "    plt.grid(axis='y', linestyle='--', alpha=0.7)\n",
    "    plt.show()\n",
    "\n",
    "# # Path to your dataset\n",
    "# file_path = \"MutantBench/codebase.csv\"  # Replace with your dataset file path\n",
    "code_column = \"code1\"  # Replace with the name of the column containing code\n",
    "\n",
    "# # Load dataset\n",
    "# dataset = load_dataset(file_path)\n",
    "\n",
    "# Analyze token distribution\n",
    "token_lengths = analyze_token_distribution(train_hf_dataset, code_column, tokenizer_name=\"gpt2\")\n",
    "# token_lengths = analyze_token_distribution(sub_validation_dataset, code_column, tokenizer_name=\"gpt2\")\n",
    "# token_lengths = analyze_token_distribution(sub_test_dataset, code_column, tokenizer_name=\"gpt2\")\n",
    "\n",
    "# Print basic statistics\n",
    "print(f\"Total code snippets: {len(token_lengths)}\")\n",
    "print(f\"Average token length: {sum(token_lengths) / len(token_lengths):.2f}\")\n",
    "print(f\"Max token length: {max(token_lengths)}\")\n",
    "print(f\"Min token length: {min(token_lengths)}\")\n",
    "\n",
    "# Visualize token distribution\n",
    "plot_token_distribution(token_lengths)"
   ]
  },
  {
   "cell_type": "code",
   "execution_count": 5,
   "id": "cec8054b-fad3-4ea2-8b24-6387050578bf",
   "metadata": {
    "tags": []
   },
   "outputs": [
    {
     "name": "stderr",
     "output_type": "stream",
     "text": [
      "Some weights of GPT2ForSequenceClassification were not initialized from the model checkpoint at microsoft/CodeGPT-small-java-adaptedGPT2 and are newly initialized: ['score.weight']\n",
      "You should probably TRAIN this model on a down-stream task to be able to use it for predictions and inference.\n"
     ]
    },
    {
     "name": "stdout",
     "output_type": "stream",
     "text": [
      "trainable params: 1,771,008 || all params: 126,214,656 || trainable%: 1.4032\n"
     ]
    },
    {
     "name": "stderr",
     "output_type": "stream",
     "text": [
      "/opt/conda/envs/pytorch/lib/python3.10/site-packages/peft/tuners/lora/layer.py:1150: UserWarning: fan_in_fan_out is set to False but the target module is `Conv1D`. Setting fan_in_fan_out to True.\n",
      "  warnings.warn(\n"
     ]
    }
   ],
   "source": [
    "# Load pre-trained model\n",
    "num_labels = 2\n",
    "model = GPT2ForSequenceClassification(configuration).from_pretrained(\"microsoft/CodeGPT-small-java-adaptedGPT2\", num_labels=num_labels)\n",
    "model.config.pad_token_id = model.config.eos_token_id\n",
    "# Config LoRA specifications\n",
    "lora_config = LoraConfig(\n",
    "    # r=8,  # lower the rank\n",
    "    r=48,  # lower the rank\n",
    "    lora_alpha=32,\n",
    "    # target_modules=[\"q\", \"v\"],  # apply LoRA to q and v of attention modules\n",
    "    target_modules=[\"c_attn\"],  # target query, key, and value together\n",
    "    lora_dropout=0.1,\n",
    "    bias=\"none\",\n",
    "    # task_type=\"SEQ_2_SEQ_LM\",  # task type set to seq2seq generation\n",
    "    task_type=\"SEQ_CLS\",  # task type set to text classification\n",
    ")\n",
    "\n",
    "# Convert the model to LoRA model\n",
    "model = get_peft_model(model, lora_config)\n",
    "\n",
    "# Check the number of trainable parameters (for LoRA)\n",
    "model.print_trainable_parameters()"
   ]
  },
  {
   "cell_type": "code",
   "execution_count": 6,
   "id": "697b119a-76bc-4b06-85be-d9b5c349293e",
   "metadata": {
    "tags": []
   },
   "outputs": [
    {
     "data": {
      "text/html": [
       "\n",
       "    <div>\n",
       "      \n",
       "      <progress value='2478' max='2478' style='width:300px; height:20px; vertical-align: middle;'></progress>\n",
       "      [2478/2478 06:33, Epoch 6/6]\n",
       "    </div>\n",
       "    <table border=\"1\" class=\"dataframe\">\n",
       "  <thead>\n",
       " <tr style=\"text-align: left;\">\n",
       "      <th>Epoch</th>\n",
       "      <th>Training Loss</th>\n",
       "      <th>Validation Loss</th>\n",
       "      <th>Accuracy</th>\n",
       "      <th>Precision</th>\n",
       "      <th>Recall</th>\n",
       "      <th>F1</th>\n",
       "    </tr>\n",
       "  </thead>\n",
       "  <tbody>\n",
       "    <tr>\n",
       "      <td>1</td>\n",
       "      <td>1.190800</td>\n",
       "      <td>0.502954</td>\n",
       "      <td>0.909091</td>\n",
       "      <td>0.912582</td>\n",
       "      <td>0.716429</td>\n",
       "      <td>0.771700</td>\n",
       "    </tr>\n",
       "    <tr>\n",
       "      <td>2</td>\n",
       "      <td>0.148300</td>\n",
       "      <td>0.487811</td>\n",
       "      <td>0.921212</td>\n",
       "      <td>0.957516</td>\n",
       "      <td>0.740000</td>\n",
       "      <td>0.802140</td>\n",
       "    </tr>\n",
       "    <tr>\n",
       "      <td>3</td>\n",
       "      <td>0.272800</td>\n",
       "      <td>0.440401</td>\n",
       "      <td>0.921212</td>\n",
       "      <td>0.957516</td>\n",
       "      <td>0.740000</td>\n",
       "      <td>0.802140</td>\n",
       "    </tr>\n",
       "    <tr>\n",
       "      <td>4</td>\n",
       "      <td>0.290500</td>\n",
       "      <td>0.419062</td>\n",
       "      <td>0.921212</td>\n",
       "      <td>0.957516</td>\n",
       "      <td>0.740000</td>\n",
       "      <td>0.802140</td>\n",
       "    </tr>\n",
       "    <tr>\n",
       "      <td>5</td>\n",
       "      <td>0.268800</td>\n",
       "      <td>0.409767</td>\n",
       "      <td>0.921212</td>\n",
       "      <td>0.957516</td>\n",
       "      <td>0.740000</td>\n",
       "      <td>0.802140</td>\n",
       "    </tr>\n",
       "    <tr>\n",
       "      <td>6</td>\n",
       "      <td>0.776900</td>\n",
       "      <td>0.428175</td>\n",
       "      <td>0.921212</td>\n",
       "      <td>0.957516</td>\n",
       "      <td>0.740000</td>\n",
       "      <td>0.802140</td>\n",
       "    </tr>\n",
       "  </tbody>\n",
       "</table><p>"
      ],
      "text/plain": [
       "<IPython.core.display.HTML object>"
      ]
     },
     "metadata": {},
     "output_type": "display_data"
    },
    {
     "name": "stdout",
     "output_type": "stream",
     "text": [
      "LoRA fine-tuning done, model saved!\n"
     ]
    },
    {
     "data": {
      "text/html": [],
      "text/plain": [
       "<IPython.core.display.HTML object>"
      ]
     },
     "metadata": {},
     "output_type": "display_data"
    },
    {
     "name": "stdout",
     "output_type": "stream",
     "text": [
      "{'test_loss': 0.37453630566596985, 'test_accuracy': 0.9321212121212121, 'test_precision': 0.9630118890356671, 'test_recall': 0.7741935483870968, 'test_f1': 0.8349622770919067, 'test_runtime': 10.4825, 'test_samples_per_second': 78.703, 'test_steps_per_second': 19.747}\n"
     ]
    }
   ],
   "source": [
    "# Adjust the batch size\n",
    "batch_size = 4\n",
    "training_args = TrainingArguments(\n",
    "    output_dir=\"./results/lora-codeGPT-emd\",\n",
    "    eval_strategy=\"epoch\",\n",
    "    learning_rate=5e-4,\n",
    "    per_device_train_batch_size=batch_size,\n",
    "    per_device_eval_batch_size=batch_size,\n",
    "    metric_for_best_model=\"f1\",\n",
    "    weight_decay=0.01,\n",
    "    num_train_epochs=6,\n",
    "    save_strategy=\"epoch\",\n",
    "    logging_strategy=\"steps\",\n",
    "    logging_steps=10,\n",
    "    report_to=\"mlflow\",  # disable wandb etc.\n",
    "    fp16=True,  # mixed precision training\n",
    "    optim=\"adamw_torch\",  # use torch original optimizer\n",
    ")\n",
    "\n",
    "def compute_metrics(pred):\n",
    "    labels = pred.label_ids\n",
    "    # Extract logits from the predictions & assuming logits are the first element in the tuple\n",
    "    logits = pred.predictions[0] if isinstance(pred.predictions, tuple) else pred.predictions\n",
    "    preds = logits.argmax(-1)\n",
    "    f1 = f1_score(labels, preds, average=\"macro\")\n",
    "    acc = accuracy_score(labels, preds)\n",
    "    precision = precision_score(labels, preds, average=\"macro\")\n",
    "    recall = recall_score(labels, preds, average=\"macro\")\n",
    "    return {\"accuracy\": acc, \"precision\": precision, \"recall\": recall, \"f1\": f1}\n",
    "\n",
    "# Define Trainer\n",
    "trainer = Trainer(\n",
    "    model=model,\n",
    "    args=training_args,\n",
    "    compute_metrics=compute_metrics,\n",
    "    train_dataset=tokenized_train_dataset,\n",
    "    eval_dataset=tokenized_validation_dataset,\n",
    ")\n",
    "\n",
    "# Start Training\n",
    "trainer.train()\n",
    "\n",
    "# Save the model after LoRA fine-tuing\n",
    "model.save_pretrained(\"./lora-codeGPT-emd/model\")\n",
    "tokenizer.save_pretrained(\"./lora-codeGPT-emd/tokenizer\")\n",
    "\n",
    "print(\"LoRA fine-tuning done, model saved!\")\n",
    "\n",
    "test_results = trainer.predict(tokenized_test_dataset)\n",
    "predictions, labels, metrics = test_results\n",
    "print(metrics)"
   ]
  }
 ],
 "metadata": {
  "environment": {
   "kernel": "conda-env-pytorch-pytorch",
   "name": "workbench-notebooks.m126",
   "type": "gcloud",
   "uri": "us-docker.pkg.dev/deeplearning-platform-release/gcr.io/workbench-notebooks:m126"
  },
  "kernelspec": {
   "display_name": "PyTorch 1-13",
   "language": "python",
   "name": "conda-env-pytorch-pytorch"
  },
  "language_info": {
   "codemirror_mode": {
    "name": "ipython",
    "version": 3
   },
   "file_extension": ".py",
   "mimetype": "text/x-python",
   "name": "python",
   "nbconvert_exporter": "python",
   "pygments_lexer": "ipython3",
   "version": "3.10.15"
  }
 },
 "nbformat": 4,
 "nbformat_minor": 5
}
